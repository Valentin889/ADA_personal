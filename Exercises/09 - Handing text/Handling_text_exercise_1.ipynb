{
 "cells": [
  {
   "cell_type": "markdown",
   "metadata": {},
   "source": [
    "# Handling text exercise"
   ]
  },
  {
   "cell_type": "markdown",
   "metadata": {},
   "source": [
    "## Welcome! This exercise consists of:\n",
    "\n",
    "## Part 1: Hands on tutorial\n",
    "1. Implementing the natural language processing pipeline\n",
    "2. Solving four typical language processing tasks:\n",
    "   * Sentiment analysis\n",
    "   * Document classification\n",
    "   * Topic detection\n",
    "   * Semantic analysis\n",
    "\n",
    "\n",
    "### We will be working with four books in plain text:\n",
    "1. Moby-Dick, by Herman Melville\n",
    "2. Frankenstein; or, The Modern Prometheus, by Mary Shelley\n",
    "3. Pride and Prejudice, by Jane Austen\n",
    "4. Dracula, Bram Stoker\n",
    "\n",
    "#### To run this notebook, you need to install the following libraries:\n",
    "\n",
    "conda install nltk gensim spacy <br>\n",
    "pip install pyLDAvis  <br>\n",
    "pip install vaderSentiment  <br>\n",
    "pip install empath <br>\n",
    "python -m spacy download en  <br>\n",
    "python -m nltk.downloader punkt <br>\n",
    "python -m nltk.downloader all-corpora <br>\n",
    "\n",
    "## Part 2: Handling text comprehension questions\n",
    "- You can test your understanding of important NLP concepts. Solutions will be released next week.\n",
    "\n",
    "## Part 3: Coding exercise\n",
    "- When you are done, in \"Handling_text_exercise_2.ipynb\", you will find additional exercises you can work on independently."
   ]
  },
  {
   "cell_type": "markdown",
   "metadata": {},
   "source": [
    "## Part 1"
   ]
  },
  {
   "cell_type": "code",
   "execution_count": 1,
   "metadata": {},
   "outputs": [],
   "source": [
    "%load_ext autoreload\n",
    "%autoreload 2\n",
    "\n",
    "import warnings; warnings.simplefilter('ignore')\n",
    "import os, codecs, string, random\n",
    "import numpy as np\n",
    "from numpy.random import seed as random_seed\n",
    "from numpy.random import shuffle as random_shuffle\n",
    "import matplotlib.pyplot as plt\n",
    "%matplotlib inline  \n",
    "\n",
    "seed = 42\n",
    "random.seed(seed)\n",
    "np.random.seed(seed)\n",
    "\n",
    "#NLP libraries\n",
    "import spacy, nltk, gensim, sklearn\n",
    "#import pyLDAvis.gensim\n",
    "import pyLDAvis.gensim_models\n",
    "\n",
    "#Vader\n",
    "import vaderSentiment\n",
    "from vaderSentiment.vaderSentiment import SentimentIntensityAnalyzer\n",
    "\n",
    "#Scikit imports\n",
    "from sklearn.feature_extraction.text import CountVectorizer\n",
    "from sklearn.model_selection import train_test_split\n",
    "from sklearn.model_selection import cross_val_score\n",
    "from sklearn.linear_model import LogisticRegression\n",
    "from sklearn import preprocessing\n",
    "from sklearn.preprocessing import StandardScaler\n",
    "from sklearn.utils import shuffle\n",
    "\n",
    "#The data\n",
    "corpus_root = 'books/'"
   ]
  },
  {
   "cell_type": "markdown",
   "metadata": {},
   "source": [
    "#### In this tutorial we will be working with text in English. The same principles apply, but the methods cannot be applied directly to the text in unknown or other languages. We will be working mainly with the Spacy library."
   ]
  },
  {
   "cell_type": "markdown",
   "metadata": {},
   "source": [
    "Initialize the Spacy analyzer in English"
   ]
  },
  {
   "cell_type": "code",
   "execution_count": 2,
   "metadata": {},
   "outputs": [],
   "source": [
    "nlp = spacy.load('en_core_web_sm')"
   ]
  },
  {
   "cell_type": "markdown",
   "metadata": {},
   "source": [
    "Load the books"
   ]
  },
  {
   "cell_type": "code",
   "execution_count": 3,
   "metadata": {},
   "outputs": [
    {
     "name": "stdout",
     "output_type": "stream",
     "text": [
      "Moby_Dick.txt\n",
      "Frankenstein.txt\n",
      "DRACULA.txt\n",
      "PRIDE_AND_PREJUDICE.txt\n"
     ]
    }
   ],
   "source": [
    "books = list()\n",
    "\n",
    "for book_file in os.listdir(corpus_root):\n",
    "    if \".txt\" in book_file:\n",
    "        print(book_file)\n",
    "        with codecs.open(os.path.join(corpus_root,book_file),encoding=\"utf8\") as f:\n",
    "            books.append(f.read())"
   ]
  },
  {
   "cell_type": "markdown",
   "metadata": {},
   "source": [
    "Print the beginning of Pride and Prejudice"
   ]
  },
  {
   "cell_type": "code",
   "execution_count": 4,
   "metadata": {},
   "outputs": [
    {
     "name": "stdout",
     "output_type": "stream",
     "text": [
      "PRIDE AND PREJUDICE\n",
      "\n",
      "By Jane Austen\n",
      "\n",
      "\n",
      "\n",
      "Chapter 1\n",
      "\n",
      "\n",
      "It is a truth universally acknowledged, that a single man in possession\n",
      "of a good fortune, must be in want of a wife.\n",
      "\n",
      "However little known the feelings or views of such a man may be on his\n",
      "first entering a neighbourhood, this truth is so well fixed in the minds\n",
      "of the surrounding families, that he is considered the rightful property\n",
      "of some one or other of their daughters.\n",
      "\n",
      "“My dear Mr. Bennet,” said his lady to him one day, “have you heard that\n",
      "Netherfield Park is let at last?”\n",
      "\n",
      "Mr. Bennet replied that he had not.\n",
      "\n",
      "“But it is,” returned she;\n"
     ]
    }
   ],
   "source": [
    "print(books[3][0:600])"
   ]
  },
  {
   "cell_type": "markdown",
   "metadata": {},
   "source": [
    "#### Let's remove the new lines"
   ]
  },
  {
   "cell_type": "code",
   "execution_count": 5,
   "metadata": {},
   "outputs": [],
   "source": [
    "books = [\" \".join(b.split()) for b in books]"
   ]
  },
  {
   "cell_type": "code",
   "execution_count": 6,
   "metadata": {},
   "outputs": [
    {
     "name": "stdout",
     "output_type": "stream",
     "text": [
      "PRIDE AND PREJUDICE By Jane Austen Chapter 1 It is a truth universally acknowledged, that a single man in possession of a good fortune, must be in want of a wife. However little known the feelings or views of such a man may be on his first entering a neighbourhood, this truth is so well fixed in the minds of the surrounding families, that he is considered the rightful property of some one or other of their daughters. “My dear Mr. Bennet,” said his lady to him one day, “have you heard that Netherfield Park is let at last?” Mr. Bennet replied that he had not. “But it is,” returned she; “for Mrs.\n"
     ]
    }
   ],
   "source": [
    "print(books[3][0:600])"
   ]
  },
  {
   "cell_type": "markdown",
   "metadata": {},
   "source": [
    "### Load Frankenstein"
   ]
  },
  {
   "cell_type": "code",
   "execution_count": 7,
   "metadata": {},
   "outputs": [],
   "source": [
    "#index all books\n",
    "book = books[1]\n",
    "\n",
    "#put in raw text, get a Spacy object\n",
    "doc = nlp(book)"
   ]
  },
  {
   "cell_type": "markdown",
   "metadata": {},
   "source": [
    "## Let's create our own NLP pipeline with Spacy!"
   ]
  },
  {
   "cell_type": "markdown",
   "metadata": {},
   "source": [
    "### Step 1: Sentence splitting\n",
    "\n",
    "#### May sound trivial, but it's not! (e.g., U.K. or Yahoo!) Spacy uses a statistical model to generate accurate predictions. This works well out of the box for general-purpose text or web text. For social media use dedicated libraries."
   ]
  },
  {
   "cell_type": "code",
   "execution_count": 9,
   "metadata": {},
   "outputs": [
    {
     "name": "stdout",
     "output_type": "stream",
     "text": [
      "Sentence 1: Frankenstein, or the Modern Prometheus by Mary Wollstonecraft (Godwin) Shelley Letter 1 St. Petersburgh, Dec. 11th, 17-- TO Mrs. Saville, England You will rejoice to hear that no disaster has accompanied the commencement of an enterprise which you have regarded with such evil forebodings. \n",
      "\n",
      "Sentence 2: I arrived here yesterday, and my first task is to assure my dear sister of my welfare and increasing confidence in the success of my undertaking. \n",
      "\n",
      "Sentence 3: I am already far north of London, and as I walk in the streets of Petersburgh, I feel a cold northern breeze play upon my cheeks, which braces my nerves and fills me with delight. \n",
      "\n"
     ]
    }
   ],
   "source": [
    "sentences = [sent for sent in doc.sents]\n",
    "print('Sentence 1:',sentences[0],'\\n')\n",
    "print('Sentence 2:',sentences[1],'\\n')\n",
    "print('Sentence 3:',sentences[2],'\\n')"
   ]
  },
  {
   "cell_type": "markdown",
   "metadata": {},
   "source": [
    "### Step 2: Tokenization\n",
    "\n",
    "#### The task of splitting a text into meaningful segments called tokens. We segment the sentence into words, punctuation, etc. This is done by first splitting on whitespace characters and them applying rules specific to each language. For example, \"don't\" does not contain whitespace, but should be split into two tokens, \"do\" and \"n't\", while \"U.K.\" should always remain one token and \"but,\" shouldn't."
   ]
  },
  {
   "cell_type": "markdown",
   "metadata": {},
   "source": [
    "### We will analyze the methods on an example sentence first"
   ]
  },
  {
   "cell_type": "code",
   "execution_count": 10,
   "metadata": {},
   "outputs": [
    {
     "name": "stdout",
     "output_type": "stream",
     "text": [
      "I am already far north of London, and as I walk in the streets of Petersburgh, I feel a cold northern breeze play upon my cheeks, which braces my nerves and fills me with delight. \n",
      "\n",
      "['I', 'am', 'already', 'far', 'north', 'of', 'London', ',', 'and', 'as', 'I', 'walk', 'in', 'the', 'streets', 'of', 'Petersburgh', ',', 'I', 'feel', 'a', 'cold', 'northern', 'breeze', 'play', 'upon', 'my', 'cheeks', ',', 'which', 'braces', 'my', 'nerves', 'and', 'fills', 'me', 'with', 'delight', '.']\n"
     ]
    }
   ],
   "source": [
    "example = 'I am already far north of London, and as I walk in the streets of Petersburgh, I feel a cold northern breeze play upon my cheeks, which braces my nerves and fills me with delight.'\n",
    "\n",
    "doc = nlp(example)\n",
    "\n",
    "#strings are encoded to hashes\n",
    "tokens = [token.text for token in doc]\n",
    "\n",
    "print(example,'\\n')\n",
    "print(tokens)"
   ]
  },
  {
   "cell_type": "markdown",
   "metadata": {},
   "source": [
    "### Step 3: Part of speech tagging\n",
    "\n",
    "#### The model makes a prediction of which tag or label most likely applies in this context. For example, a word following \"the\" in English is most likely a noun."
   ]
  },
  {
   "cell_type": "code",
   "execution_count": 11,
   "metadata": {},
   "outputs": [
    {
     "name": "stdout",
     "output_type": "stream",
     "text": [
      "I am already far north of London, and as I walk in the streets of Petersburgh, I feel a cold northern breeze play upon my cheeks, which braces my nerves and fills me with delight. \n",
      "\n",
      "[('I', 'PRON'), ('am', 'AUX'), ('already', 'ADV'), ('far', 'ADV'), ('north', 'ADV'), ('of', 'ADP'), ('London', 'PROPN'), (',', 'PUNCT'), ('and', 'CCONJ'), ('as', 'SCONJ'), ('I', 'PRON'), ('walk', 'VERB'), ('in', 'ADP'), ('the', 'DET'), ('streets', 'NOUN'), ('of', 'ADP'), ('Petersburgh', 'PROPN'), (',', 'PUNCT'), ('I', 'PRON'), ('feel', 'VERB'), ('a', 'DET'), ('cold', 'ADJ'), ('northern', 'ADJ'), ('breeze', 'NOUN'), ('play', 'VERB'), ('upon', 'SCONJ'), ('my', 'PRON'), ('cheeks', 'NOUN'), (',', 'PUNCT'), ('which', 'PRON'), ('braces', 'VERB'), ('my', 'PRON'), ('nerves', 'NOUN'), ('and', 'CCONJ'), ('fills', 'VERB'), ('me', 'PRON'), ('with', 'ADP'), ('delight', 'NOUN'), ('.', 'PUNCT')]\n"
     ]
    }
   ],
   "source": [
    "pos_tagged = [(token.text, token.pos_) for token in doc]\n",
    "\n",
    "print(example,'\\n')\n",
    "print(pos_tagged)"
   ]
  },
  {
   "cell_type": "code",
   "execution_count": 12,
   "metadata": {},
   "outputs": [
    {
     "name": "stdout",
     "output_type": "stream",
     "text": [
      "coordinating conjunction\n",
      "adposition\n",
      "determiner\n"
     ]
    }
   ],
   "source": [
    "print(spacy.explain('CCONJ'))\n",
    "print(spacy.explain('ADP'))\n",
    "print(spacy.explain('DET'))"
   ]
  },
  {
   "cell_type": "markdown",
   "metadata": {},
   "source": [
    "### When unsure, see here for more details: http://universaldependencies.org/u/pos/all.html"
   ]
  },
  {
   "cell_type": "markdown",
   "metadata": {},
   "source": [
    "#### More detailed annotation:"
   ]
  },
  {
   "cell_type": "code",
   "execution_count": 13,
   "metadata": {},
   "outputs": [
    {
     "name": "stdout",
     "output_type": "stream",
     "text": [
      "[('I', 'PRP'), ('am', 'VBP'), ('already', 'RB'), ('far', 'RB'), ('north', 'RB'), ('of', 'IN'), ('London', 'NNP'), (',', ','), ('and', 'CC'), ('as', 'IN'), ('I', 'PRP'), ('walk', 'VBP'), ('in', 'IN'), ('the', 'DT'), ('streets', 'NNS'), ('of', 'IN'), ('Petersburgh', 'NNP'), (',', ','), ('I', 'PRP'), ('feel', 'VBP'), ('a', 'DT'), ('cold', 'JJ'), ('northern', 'JJ'), ('breeze', 'NN'), ('play', 'VB'), ('upon', 'IN'), ('my', 'PRP$'), ('cheeks', 'NNS'), (',', ','), ('which', 'WDT'), ('braces', 'VBZ'), ('my', 'PRP$'), ('nerves', 'NNS'), ('and', 'CC'), ('fills', 'VBZ'), ('me', 'PRP'), ('with', 'IN'), ('delight', 'NN'), ('.', '.')]\n"
     ]
    }
   ],
   "source": [
    "pos_tagged = [(token.text, token.tag_) for token in doc]\n",
    "\n",
    "print(pos_tagged)"
   ]
  },
  {
   "cell_type": "code",
   "execution_count": 14,
   "metadata": {},
   "outputs": [
    {
     "name": "stdout",
     "output_type": "stream",
     "text": [
      "pronoun, personal\n",
      "verb, non-3rd person singular present\n"
     ]
    }
   ],
   "source": [
    "print(spacy.explain('PRP'))\n",
    "print(spacy.explain('VBP'))"
   ]
  },
  {
   "cell_type": "markdown",
   "metadata": {},
   "source": [
    "### Step 4: Named entity recognition\n",
    "\n",
    "#### For example, a person, a country, a product or a book title. Spacy can recognise various types of named entities in a document. This doesn't always work perfectly and might need some tuning later, depending on your use case.\n",
    "\n",
    "Built in entity types: <br>\n",
    "\n",
    "PERSON  People, including fictional.  <br>\n",
    "NORP\tNationalities or religious or political groups. <br>\n",
    "FAC\tBuildings, airports, highways, bridges, etc. <br>\n",
    "ORG\tCompanies, agencies, institutions, etc. <br>\n",
    "GPE\tCountries, cities, states. <br>\n",
    "LOC\tNon-GPE locations, mountain ranges, bodies of water. <br>\n",
    "PRODUCT\tObjects, vehicles, foods, etc. (Not services.) <br>\n",
    "EVENT\tNamed hurricanes, battles, wars, sports events, etc. <br>\n",
    "WORK_OF_ART\tTitles of books, songs, etc. <br>\n",
    "LAW\tNamed documents made into laws. <br>\n",
    "LANGUAGE\tAny named language. <br>\n",
    "DATE\tAbsolute or relative dates or periods. <br>\n",
    "TIME\tTimes smaller than a day. <br>\n",
    "PERCENT\tPercentage, including \"%\". <br>\n",
    "MONEY\tMonetary values, including unit. <br>\n",
    "QUANTITY\tMeasurements, as of weight or distance. <br>\n",
    "ORDINAL\t\"first\", \"second\", etc. <br>\n",
    "CARDINAL\tNumerals that do not fall under another type. <br>"
   ]
  },
  {
   "cell_type": "code",
   "execution_count": 15,
   "metadata": {},
   "outputs": [
    {
     "name": "stdout",
     "output_type": "stream",
     "text": [
      "I am already far north of London, and as I walk in the streets of Petersburgh, I feel a cold northern breeze play upon my cheeks, which braces my nerves and fills me with delight. \n",
      "\n",
      "London GPE\n",
      "Petersburgh GPE\n"
     ]
    }
   ],
   "source": [
    "print(example,'\\n')\n",
    "for ent in doc.ents:\n",
    "    print(ent.text, ent.label_)"
   ]
  },
  {
   "cell_type": "markdown",
   "metadata": {},
   "source": [
    "### Step 5: Removing stop words"
   ]
  },
  {
   "cell_type": "markdown",
   "metadata": {},
   "source": [
    "Let's check out all the stopwords:"
   ]
  },
  {
   "cell_type": "code",
   "execution_count": 16,
   "metadata": {},
   "outputs": [
    {
     "name": "stdout",
     "output_type": "stream",
     "text": [
      "Number of stop words: 326\n",
      "First ten stop words: ['do', 'during', 'and', 'both', 'whose', 'again', 'across', 'until', 'if', 'more']\n"
     ]
    }
   ],
   "source": [
    "spacy_stopwords = spacy.lang.en.stop_words.STOP_WORDS\n",
    "print('Number of stop words: %d' % len(spacy_stopwords))\n",
    "print('First ten stop words:',list(spacy_stopwords)[:10])"
   ]
  },
  {
   "cell_type": "markdown",
   "metadata": {},
   "source": [
    "Detecting stopwords in the example:"
   ]
  },
  {
   "cell_type": "code",
   "execution_count": 17,
   "metadata": {},
   "outputs": [
    {
     "name": "stdout",
     "output_type": "stream",
     "text": [
      "I am already far north of London, and as I walk in the streets of Petersburgh, I feel a cold northern breeze play upon my cheeks, which braces my nerves and fills me with delight. \n",
      "\n",
      "['I', 'am', 'already', 'of', 'and', 'as', 'I', 'in', 'the', 'of', 'I', 'a', 'upon', 'my', 'which', 'my', 'and', 'me', 'with']\n"
     ]
    }
   ],
   "source": [
    "print(example,'\\n')\n",
    "\n",
    "stop_words = [token.text for token in doc if token.is_stop]\n",
    "\n",
    "print(stop_words)"
   ]
  },
  {
   "cell_type": "markdown",
   "metadata": {},
   "source": [
    "#### Sometimes it's useful to define a custom list of stopwords. Other solutions: https://www.ranks.nl/stopwords \n"
   ]
  },
  {
   "cell_type": "markdown",
   "metadata": {},
   "source": [
    "### Step 6: Lemmatization\n",
    "\n",
    "#### A rule-based deterministic lemmatizer maps the surface form of a token to a lemma."
   ]
  },
  {
   "cell_type": "code",
   "execution_count": 18,
   "metadata": {},
   "outputs": [
    {
     "name": "stdout",
     "output_type": "stream",
     "text": [
      "I am already far north of London, and as I walk in the streets of Petersburgh, I feel a cold northern breeze play upon my cheeks, which braces my nerves and fills me with delight. \n",
      "\n",
      "am ---> be\n",
      "streets ---> street\n",
      "cheeks ---> cheek\n",
      "braces ---> brace\n",
      "nerves ---> nerve\n",
      "fills ---> fill\n",
      "me ---> I\n"
     ]
    }
   ],
   "source": [
    "print(example,'\\n')\n",
    "for token in doc:\n",
    "    if token.text != token.lemma_:\n",
    "        print(token.text,'--->',token.lemma_)"
   ]
  },
  {
   "cell_type": "markdown",
   "metadata": {},
   "source": [
    "### Step 7: Chunking (shallow parsing)\n",
    "\n",
    "#### Noun chunks are \"base noun phrases\" – flat phrases that have a noun as their head -- a noun plus the words describing the noun – for example, \"the lavish green grass\" or \"the world’s largest tech fund\". "
   ]
  },
  {
   "cell_type": "code",
   "execution_count": 19,
   "metadata": {},
   "outputs": [
    {
     "name": "stdout",
     "output_type": "stream",
     "text": [
      "I am already far north of London, and as I walk in the streets of Petersburgh, I feel a cold northern breeze play upon my cheeks, which braces my nerves and fills me with delight. \n",
      "\n",
      "I\n",
      "London\n",
      "I\n",
      "the streets\n",
      "Petersburgh\n",
      "I\n",
      "my cheeks\n",
      "which\n",
      "my nerves\n",
      "me\n",
      "delight\n"
     ]
    }
   ],
   "source": [
    "print(example,'\\n')\n",
    "\n",
    "for chunk in doc.noun_chunks:\n",
    "    print(chunk.text)"
   ]
  },
  {
   "cell_type": "markdown",
   "metadata": {},
   "source": [
    "### Step 8: Dependancy parsing\n",
    "\n",
    "#### The terms head and child describe the words connected by an arc in the dependency tree. The type of syntactic relation that connects the child to the head can be obtain through .dep_."
   ]
  },
  {
   "cell_type": "code",
   "execution_count": 20,
   "metadata": {},
   "outputs": [
    {
     "name": "stdout",
     "output_type": "stream",
     "text": [
      "I am already far north of London, and as I walk in the streets of Petersburgh, I feel a cold northern breeze play upon my cheeks, which braces my nerves and fills me with delight. \n",
      "\n",
      "Token: I Head: am Children: []\n",
      "Token: am Head: am Children: [I, already, north, ,, and, feel]\n",
      "Token: already Head: am Children: []\n",
      "Token: far Head: north Children: []\n",
      "Token: north Head: am Children: [far, of]\n",
      "Token: of Head: north Children: [London]\n",
      "Token: London Head: of Children: []\n",
      "Token: , Head: am Children: []\n",
      "Token: and Head: am Children: []\n",
      "Token: as Head: walk Children: []\n",
      "Token: I Head: walk Children: []\n",
      "Token: walk Head: feel Children: [as, I, in]\n",
      "Token: in Head: walk Children: [streets]\n",
      "Token: the Head: streets Children: []\n",
      "Token: streets Head: in Children: [the, of]\n",
      "Token: of Head: streets Children: [Petersburgh]\n",
      "Token: Petersburgh Head: of Children: []\n",
      "Token: , Head: feel Children: []\n",
      "Token: I Head: feel Children: []\n",
      "Token: feel Head: am Children: [walk, ,, I, play, .]\n",
      "Token: a Head: play Children: []\n",
      "Token: cold Head: breeze Children: []\n",
      "Token: northern Head: breeze Children: []\n",
      "Token: breeze Head: play Children: [cold, northern]\n",
      "Token: play Head: feel Children: [a, breeze, upon]\n",
      "Token: upon Head: play Children: [cheeks]\n",
      "Token: my Head: cheeks Children: []\n",
      "Token: cheeks Head: upon Children: [my, ,, braces]\n",
      "Token: , Head: cheeks Children: []\n",
      "Token: which Head: braces Children: []\n",
      "Token: braces Head: cheeks Children: [which, nerves, and, fills]\n",
      "Token: my Head: nerves Children: []\n",
      "Token: nerves Head: braces Children: [my]\n",
      "Token: and Head: braces Children: []\n",
      "Token: fills Head: braces Children: [me, with]\n",
      "Token: me Head: fills Children: []\n",
      "Token: with Head: fills Children: [delight]\n",
      "Token: delight Head: with Children: []\n",
      "Token: . Head: feel Children: []\n"
     ]
    }
   ],
   "source": [
    "print(example,'\\n')\n",
    "\n",
    "for token in doc:\n",
    "    print('Token:',token.text,'Head:',token.head.text, 'Children:',[child for child in token.children])"
   ]
  },
  {
   "cell_type": "markdown",
   "metadata": {},
   "source": [
    "### Counting word occurences"
   ]
  },
  {
   "cell_type": "code",
   "execution_count": 21,
   "metadata": {},
   "outputs": [
    {
     "name": "stdout",
     "output_type": "stream",
     "text": [
      "I am already far north of London, and as I walk in the streets of Petersburgh, I feel a cold northern breeze play upon my cheeks, which braces my nerves and fills me with delight. \n",
      "\n",
      "[('I', 3), (',', 3), ('of', 2), ('and', 2), ('my', 2), ('am', 1), ('already', 1), ('far', 1), ('north', 1), ('London', 1), ('as', 1), ('walk', 1), ('in', 1), ('the', 1), ('streets', 1), ('Petersburgh', 1), ('feel', 1), ('a', 1), ('cold', 1), ('northern', 1), ('breeze', 1), ('play', 1), ('upon', 1), ('cheeks', 1), ('which', 1), ('braces', 1), ('nerves', 1), ('fills', 1), ('me', 1), ('with', 1), ('delight', 1), ('.', 1)]\n"
     ]
    }
   ],
   "source": [
    "from collections import Counter\n",
    "\n",
    "print(example,'\\n')\n",
    "words = [token.text for token in doc]\n",
    "\n",
    "# five most common tokens\n",
    "word_freq = Counter(words)\n",
    "common_words = word_freq.most_common()\n",
    "\n",
    "print(common_words)"
   ]
  },
  {
   "cell_type": "markdown",
   "metadata": {},
   "source": [
    "### Without stop words and punctuation"
   ]
  },
  {
   "cell_type": "code",
   "execution_count": 22,
   "metadata": {},
   "outputs": [
    {
     "name": "stdout",
     "output_type": "stream",
     "text": [
      "[('far', 1), ('north', 1), ('London', 1), ('walk', 1), ('streets', 1), ('Petersburgh', 1), ('feel', 1), ('cold', 1), ('northern', 1), ('breeze', 1), ('play', 1), ('cheeks', 1), ('braces', 1), ('nerves', 1), ('fills', 1), ('delight', 1)]\n"
     ]
    }
   ],
   "source": [
    "words = [token.text for token in doc if token.is_stop != True and token.is_punct != True]\n",
    "\n",
    "# five most common tokens\n",
    "word_freq = Counter(words)\n",
    "common_words = word_freq.most_common()\n",
    "\n",
    "print(common_words)"
   ]
  },
  {
   "cell_type": "markdown",
   "metadata": {},
   "source": [
    "## Putting all the components together"
   ]
  },
  {
   "cell_type": "markdown",
   "metadata": {},
   "source": [
    "### Under the hood: the pipeline [\"tokenizer\",\"tagger\", \"parser\", \"ner\"]."
   ]
  },
  {
   "cell_type": "markdown",
   "metadata": {},
   "source": [
    "#### The NLP pipeline with Spacy\n",
    "<img src=\"spacy.png\">"
   ]
  },
  {
   "cell_type": "code",
   "execution_count": 23,
   "metadata": {},
   "outputs": [],
   "source": [
    "nlp = spacy.load('en_core_web_sm')"
   ]
  },
  {
   "cell_type": "markdown",
   "metadata": {},
   "source": [
    "### If you don't need a particular component of the pipeline – for example, the tagger or the parser, you can disable loading it. This can sometimes make a big difference and improve loading speed. "
   ]
  },
  {
   "cell_type": "code",
   "execution_count": 24,
   "metadata": {},
   "outputs": [
    {
     "data": {
      "text/plain": [
       "('tagger', <spacy.pipeline.tagger.Tagger at 0x165b3d0d0>)"
      ]
     },
     "execution_count": 24,
     "metadata": {},
     "output_type": "execute_result"
    }
   ],
   "source": [
    "nlp.remove_pipe('parser')\n",
    "nlp.remove_pipe('tagger')"
   ]
  },
  {
   "cell_type": "markdown",
   "metadata": {},
   "source": [
    "# Task 1: Sentiment analysis"
   ]
  },
  {
   "cell_type": "markdown",
   "metadata": {},
   "source": [
    "### Initialize the analyzer. Typically used for data from social media (short sentences)."
   ]
  },
  {
   "cell_type": "code",
   "execution_count": 25,
   "metadata": {},
   "outputs": [],
   "source": [
    "analyzer = SentimentIntensityAnalyzer()\n",
    "vs = analyzer.polarity_scores(example)"
   ]
  },
  {
   "cell_type": "markdown",
   "metadata": {},
   "source": [
    "### The sentiment score consits of four values. Neutral, positive and negative sum to one. The final score is obtained by thresholding the compound value (e.g. +/-0.05)."
   ]
  },
  {
   "cell_type": "code",
   "execution_count": 26,
   "metadata": {},
   "outputs": [
    {
     "name": "stdout",
     "output_type": "stream",
     "text": [
      "I am already far north of London, and as I walk in the streets of Petersburgh, I feel a cold northern breeze play upon my cheeks, which braces my nerves and fills me with delight. \n",
      "\n",
      "Negative sentiment: 0.035\n",
      "Neutral sentiment: 0.806\n",
      "Positive sentiment: 0.159\n",
      "Compound sentiment: 0.7096\n"
     ]
    }
   ],
   "source": [
    "print(example, '\\n')\n",
    "print('Negative sentiment:',vs['neg'])\n",
    "print('Neutral sentiment:',vs['neu'])\n",
    "print('Positive sentiment:',vs['pos'])\n",
    "print('Compound sentiment:',vs['compound'])"
   ]
  },
  {
   "cell_type": "markdown",
   "metadata": {},
   "source": [
    "### We can now observe the distributions of sentiment across all sentences in the book Pride and Prejudice:"
   ]
  },
  {
   "cell_type": "code",
   "execution_count": 27,
   "metadata": {},
   "outputs": [],
   "source": [
    "nlp = spacy.load('en_core_web_sm')\n",
    "doc = nlp(books[3])"
   ]
  },
  {
   "cell_type": "code",
   "execution_count": 30,
   "metadata": {},
   "outputs": [
    {
     "data": {
      "image/png": "[encoded data removed]",
      "text/plain": [
       "<Figure size 640x480 with 1 Axes>"
      ]
     },
     "metadata": {},
     "output_type": "display_data"
    }
   ],
   "source": [
    "positive_sent = []\n",
    "#iterate through the sentences, get polarity scores, choose a value\n",
    "[positive_sent.append(analyzer.polarity_scores(sent.text)['pos']) for sent in doc.sents]\n",
    "plt.hist(positive_sent,bins=15)\n",
    "plt.xlim([0,1])\n",
    "plt.ylim([0,8000])\n",
    "plt.xlabel('Positive sentiment')\n",
    "plt.ylabel('Number of sentences')\n",
    "plt.show()"
   ]
  },
  {
   "cell_type": "code",
   "execution_count": 31,
   "metadata": {},
   "outputs": [
    {
     "data": {
      "image/png": "[encoded data removed]",
      "text/plain": [
       "<Figure size 640x480 with 1 Axes>"
      ]
     },
     "metadata": {},
     "output_type": "display_data"
    }
   ],
   "source": [
    "negative_sent = []\n",
    "[negative_sent.append(analyzer.polarity_scores(sent.text)['neg']) for sent in doc.sents]\n",
    "plt.hist(negative_sent,bins=15)\n",
    "plt.xlim([0,1])\n",
    "plt.ylim([0,8000])\n",
    "plt.xlabel('Negative sentiment')\n",
    "plt.ylabel('Number of sentences')\n",
    "plt.show()"
   ]
  },
  {
   "cell_type": "code",
   "execution_count": 34,
   "metadata": {},
   "outputs": [
    {
     "data": {
      "image/png": "[encoded data removed]",
      "text/plain": [
       "<Figure size 640x480 with 1 Axes>"
      ]
     },
     "metadata": {},
     "output_type": "display_data"
    }
   ],
   "source": [
    "total_sent = []\n",
    "[total_sent.append(analyzer.polarity_scores(sent.text)['compound']) for sent in doc.sents]\n",
    "plt.hist(total_sent,bins = 15)\n",
    "plt.xlim([-1,1])\n",
    "plt.ylim([0,8000])\n",
    "plt.xlabel('Compound sentiment')\n",
    "plt.ylabel('Number of sentences')\n",
    "plt.show()"
   ]
  },
  {
   "cell_type": "code",
   "execution_count": 35,
   "metadata": {},
   "outputs": [
    {
     "name": "stdout",
     "output_type": "stream",
     "text": [
      "Number of positive sentences: 2734\n",
      "Number of negative sentences: 1343\n",
      "Number of neutral sentences: 1872\n"
     ]
    }
   ],
   "source": [
    "sents = [analyzer.polarity_scores(sent.text)['compound'] for sent in doc.sents]\n",
    "print('Number of positive sentences:',sum(np.array(sents)>=0.05))\n",
    "print('Number of negative sentences:',sum(np.array(sents)<=-0.05))\n",
    "print('Number of neutral sentences:',sum(np.abs(np.array(sents))<0.05))"
   ]
  },
  {
   "cell_type": "markdown",
   "metadata": {},
   "source": [
    "#### Most of the sentences are quite neutral in sentiment. This is not the case when working with data from other sources (e.g., in social media opinions are strong and polarized (bimodal distribution))."
   ]
  },
  {
   "cell_type": "markdown",
   "metadata": {},
   "source": [
    "# Task 2: Document classification: Can we detect paragraphs from Frankenstein?"
   ]
  },
  {
   "cell_type": "code",
   "execution_count": 36,
   "metadata": {},
   "outputs": [
    {
     "name": "stdout",
     "output_type": "stream",
     "text": [
      "['DRACULA.txt', 'Frankenstein.txt', 'Moby_Dick.txt', 'PRIDE_AND_PREJUDICE.txt']\n"
     ]
    },
    {
     "data": {
      "text/plain": [
       "\u001b[0;31mInit signature:\u001b[0m\n",
       "\u001b[0mPlaintextCorpusReader\u001b[0m\u001b[0;34m(\u001b[0m\u001b[0;34m\u001b[0m\n",
       "\u001b[0;34m\u001b[0m    \u001b[0mroot\u001b[0m\u001b[0;34m,\u001b[0m\u001b[0;34m\u001b[0m\n",
       "\u001b[0;34m\u001b[0m    \u001b[0mfileids\u001b[0m\u001b[0;34m,\u001b[0m\u001b[0;34m\u001b[0m\n",
       "\u001b[0;34m\u001b[0m    \u001b[0mword_tokenizer\u001b[0m\u001b[0;34m=\u001b[0m\u001b[0mWordPunctTokenizer\u001b[0m\u001b[0;34m(\u001b[0m\u001b[0mpattern\u001b[0m\u001b[0;34m=\u001b[0m\u001b[0;34m'\\\\w+|[^\\\\w\\\\s]+'\u001b[0m\u001b[0;34m,\u001b[0m \u001b[0mgaps\u001b[0m\u001b[0;34m=\u001b[0m\u001b[0;32mFalse\u001b[0m\u001b[0;34m,\u001b[0m \u001b[0mdiscard_empty\u001b[0m\u001b[0;34m=\u001b[0m\u001b[0;32mTrue\u001b[0m\u001b[0;34m,\u001b[0m \u001b[0mflags\u001b[0m\u001b[0;34m=\u001b[0m\u001b[0mre\u001b[0m\u001b[0;34m.\u001b[0m\u001b[0mUNICODE\u001b[0m\u001b[0;34m|\u001b[0m\u001b[0mre\u001b[0m\u001b[0;34m.\u001b[0m\u001b[0mMULTILINE\u001b[0m\u001b[0;34m|\u001b[0m\u001b[0mre\u001b[0m\u001b[0;34m.\u001b[0m\u001b[0mDOTALL\u001b[0m\u001b[0;34m)\u001b[0m\u001b[0;34m,\u001b[0m\u001b[0;34m\u001b[0m\n",
       "\u001b[0;34m\u001b[0m    \u001b[0msent_tokenizer\u001b[0m\u001b[0;34m=\u001b[0m\u001b[0;32mNone\u001b[0m\u001b[0;34m,\u001b[0m\u001b[0;34m\u001b[0m\n",
       "\u001b[0;34m\u001b[0m    \u001b[0mpara_block_reader\u001b[0m\u001b[0;34m=\u001b[0m\u001b[0;34m<\u001b[0m\u001b[0mfunction\u001b[0m \u001b[0mread_blankline_block\u001b[0m \u001b[0mat\u001b[0m \u001b[0;36m0x15d917a60\u001b[0m\u001b[0;34m>\u001b[0m\u001b[0;34m,\u001b[0m\u001b[0;34m\u001b[0m\n",
       "\u001b[0;34m\u001b[0m    \u001b[0mencoding\u001b[0m\u001b[0;34m=\u001b[0m\u001b[0;34m'utf8'\u001b[0m\u001b[0;34m,\u001b[0m\u001b[0;34m\u001b[0m\n",
       "\u001b[0;34m\u001b[0m\u001b[0;34m)\u001b[0m\u001b[0;34m\u001b[0m\u001b[0;34m\u001b[0m\u001b[0m\n",
       "\u001b[0;31mDocstring:\u001b[0m     \n",
       "Reader for corpora that consist of plaintext documents.  Paragraphs\n",
       "are assumed to be split using blank lines.  Sentences and words can\n",
       "be tokenized using the default tokenizers, or by custom tokenizers\n",
       "specified as parameters to the constructor.\n",
       "\n",
       "This corpus reader can be customized (e.g., to skip preface\n",
       "sections of specific document formats) by creating a subclass and\n",
       "overriding the ``CorpusView`` class variable.\n",
       "\u001b[0;31mInit docstring:\u001b[0m\n",
       "Construct a new plaintext corpus reader for a set of documents\n",
       "located at the given root directory.  Example usage:\n",
       "\n",
       "    >>> root = '/usr/local/share/nltk_data/corpora/webtext/'\n",
       "    >>> reader = PlaintextCorpusReader(root, '.*\\.txt') # doctest: +SKIP\n",
       "\n",
       ":param root: The root directory for this corpus.\n",
       ":param fileids: A list or regexp specifying the fileids in this corpus.\n",
       ":param word_tokenizer: Tokenizer for breaking sentences or\n",
       "    paragraphs into words.\n",
       ":param sent_tokenizer: Tokenizer for breaking paragraphs\n",
       "    into words.\n",
       ":param para_block_reader: The block reader used to divide the\n",
       "    corpus into paragraph blocks.\n",
       "\u001b[0;31mFile:\u001b[0m           /opt/anaconda3/envs/ada/lib/python3.11/site-packages/nltk/corpus/reader/plaintext.py\n",
       "\u001b[0;31mType:\u001b[0m           type\n",
       "\u001b[0;31mSubclasses:\u001b[0m     CategorizedPlaintextCorpusReader, EuroparlCorpusReader, UdhrCorpusReader"
      ]
     },
     "metadata": {},
     "output_type": "display_data"
    }
   ],
   "source": [
    "# Let's load our corpus via NLTK this time\n",
    "from nltk.corpus import PlaintextCorpusReader\n",
    "?PlaintextCorpusReader\n",
    "our_books = PlaintextCorpusReader(corpus_root, '.*.txt')\n",
    "print(our_books.fileids())"
   ]
  },
  {
   "cell_type": "markdown",
   "metadata": {},
   "source": [
    "### We will segment the books into equally long chunks"
   ]
  },
  {
   "cell_type": "code",
   "execution_count": 40,
   "metadata": {},
   "outputs": [
    {
     "name": "stderr",
     "output_type": "stream",
     "text": [
      "[nltk_data] Downloading package punkt_tab to\n",
      "[nltk_data]     /Users/valentinschneeberger/nltk_data...\n",
      "[nltk_data]   Unzipping tokenizers/punkt_tab.zip.\n"
     ]
    },
    {
     "name": "stdout",
     "output_type": "stream",
     "text": [
      "DRACULA.txt :\n",
      "Number of sentences: 9303\n",
      "Number of chunks: 187 \n",
      "\n",
      "Frankenstein.txt :\n",
      "Number of sentences: 3378\n",
      "Number of chunks: 68 \n",
      "\n",
      "Moby_Dick.txt :\n",
      "Number of sentences: 9609\n",
      "Number of chunks: 193 \n",
      "\n",
      "PRIDE_AND_PREJUDICE.txt :\n",
      "Number of sentences: 6055\n",
      "Number of chunks: 122 \n",
      "\n"
     ]
    }
   ],
   "source": [
    "import nltk\n",
    "nltk.download('punkt_tab')\n",
    "\n",
    "def get_chunks(l, n):\n",
    "    \"\"\"Yield successive n-sized chunks from l.\"\"\"\n",
    "    for i in range(0, len(l), n):\n",
    "        yield l[i:i + n]\n",
    "\n",
    "\n",
    "# Get the data\n",
    "book_id = {f:n for n,f in enumerate(our_books.fileids())} # dictionary of books\n",
    "\n",
    "chunks = list()\n",
    "chunk_class = list() # this list contains the original book of the chunk, for evaluation\n",
    "\n",
    "limit = 500 # how many chunks total\n",
    "size = 50 # how many sentences per chunk/page\n",
    "\n",
    "for f in our_books.fileids():\n",
    "    sentences = our_books.sents(f)\n",
    "    print(f,\":\")\n",
    "    print('Number of sentences:',len(sentences))\n",
    "    \n",
    "    # create chunks\n",
    "    chunks_of_sents = [x for x in get_chunks(sentences,size)] # this is a list of lists of sentences, which are a list of tokens\n",
    "    chs = list()\n",
    "    \n",
    "    # regroup so to have a list of chunks which are strings\n",
    "    for c in chunks_of_sents:\n",
    "        grouped_chunk = list()\n",
    "        for s in c:\n",
    "            grouped_chunk.extend(s)\n",
    "        chs.append(\" \".join(grouped_chunk))\n",
    "    print(\"Number of chunks:\",len(chs),'\\n')\n",
    "    \n",
    "    # filter to the limit, to have the same number of chunks per book\n",
    "    chunks.extend(chs[:limit])\n",
    "    chunk_class.extend([book_id[f] for _ in range(len(chs[:limit]))])"
   ]
  },
  {
   "cell_type": "markdown",
   "metadata": {},
   "source": [
    "### Representing the chunks with bag-of-words"
   ]
  },
  {
   "cell_type": "code",
   "execution_count": 51,
   "metadata": {},
   "outputs": [
    {
     "name": "stdout",
     "output_type": "stream",
     "text": [
      "Number of samples: 570\n",
      "Number of features: 23116\n"
     ]
    }
   ],
   "source": [
    "vectorizer = CountVectorizer()\n",
    "\n",
    "#initialize and specify minumum number of occurences to avoid untractable number of features\n",
    "#vectorizer = CountVectorizer(min_df = 2) if we want high frequency\n",
    "\n",
    "#create bag of words features\n",
    "X = vectorizer.fit_transform(chunks)\n",
    "\n",
    "print('Number of samples:',X.toarray().shape[0])\n",
    "print('Number of features:',X.toarray().shape[1])\n",
    "\n",
    "#mask and convert to int Frankenstein\n",
    "Y = np.array(chunk_class) == 1\n",
    "Y = Y.astype(int)  \n",
    "\n",
    "#shuffle the data\n",
    "X, Y = shuffle(X, Y, random_state=0)\n",
    "\n",
    "#split into training and test set\n",
    "X_train, X_test, Y_train, Y_test = train_test_split(X, Y, test_size=0.2, random_state=42)"
   ]
  },
  {
   "cell_type": "markdown",
   "metadata": {},
   "source": [
    "### Let's fit the regularized logistic regression. We will crossvalidate the regularization parameter on the training set."
   ]
  },
  {
   "cell_type": "code",
   "execution_count": 52,
   "metadata": {},
   "outputs": [],
   "source": [
    "accs = []\n",
    "\n",
    "#the grid of regularization parameter \n",
    "grid = [0.01,0.1,1,10,100,1000,10000]\n",
    "\n",
    "for c in grid:\n",
    "    \n",
    "    #initialize the classifier\n",
    "    clf = LogisticRegression(random_state=0, solver='lbfgs',C = c)\n",
    "    \n",
    "    #crossvalidate\n",
    "    scores = cross_val_score(clf, X_train,Y_train, cv=10)\n",
    "    accs.append(np.mean(scores))"
   ]
  },
  {
   "cell_type": "code",
   "execution_count": 53,
   "metadata": {},
   "outputs": [
    {
     "data": {
      "image/png": "[encoded data removed]",
      "text/plain": [
       "<Figure size 640x480 with 1 Axes>"
      ]
     },
     "metadata": {},
     "output_type": "display_data"
    }
   ],
   "source": [
    "plt.plot(accs)\n",
    "plt.xticks(range(len(grid)), grid)\n",
    "plt.xlabel('Regularization parameter \\n (Low - strong regularization, High - weak regularization)')\n",
    "plt.ylabel('Crossvalidation accuracy')\n",
    "plt.ylim([0.986,1])\n",
    "plt.show()"
   ]
  },
  {
   "cell_type": "markdown",
   "metadata": {},
   "source": [
    "### Let's train again, on the entire training set, with the chosen regularization parameter. We will test on the test set"
   ]
  },
  {
   "cell_type": "code",
   "execution_count": 54,
   "metadata": {},
   "outputs": [
    {
     "name": "stdout",
     "output_type": "stream",
     "text": [
      "Accuracy: 0.9912280701754386\n"
     ]
    }
   ],
   "source": [
    "clf = LogisticRegression(random_state=0, solver='lbfgs',C = 10).fit(X_train,Y_train)\n",
    "\n",
    "#predict on the test set\n",
    "print('Accuracy:',clf.score(X_test,Y_test))"
   ]
  },
  {
   "cell_type": "markdown",
   "metadata": {},
   "source": [
    "### What features characterize Frankenstein? BOW are interpretable!"
   ]
  },
  {
   "cell_type": "code",
   "execution_count": 57,
   "metadata": {},
   "outputs": [
    {
     "ename": "AttributeError",
     "evalue": "'CountVectorizer' object has no attribute 'get_feature_names'",
     "output_type": "error",
     "traceback": [
      "\u001b[0;31m---------------------------------------------------------------------------\u001b[0m",
      "\u001b[0;31mAttributeError\u001b[0m                            Traceback (most recent call last)",
      "Cell \u001b[0;32mIn[57], line 4\u001b[0m\n\u001b[1;32m      1\u001b[0m coefs\u001b[38;5;241m=\u001b[39mclf\u001b[38;5;241m.\u001b[39mcoef_[\u001b[38;5;241m0\u001b[39m]\n\u001b[1;32m      2\u001b[0m top_three \u001b[38;5;241m=\u001b[39m np\u001b[38;5;241m.\u001b[39margpartition(coefs, \u001b[38;5;241m-\u001b[39m\u001b[38;5;241m20\u001b[39m)[\u001b[38;5;241m-\u001b[39m\u001b[38;5;241m20\u001b[39m:]\n\u001b[0;32m----> 4\u001b[0m \u001b[38;5;28mprint\u001b[39m(np\u001b[38;5;241m.\u001b[39marray(vectorizer\u001b[38;5;241m.\u001b[39mget_feature_names())[top_three])\n",
      "\u001b[0;31mAttributeError\u001b[0m: 'CountVectorizer' object has no attribute 'get_feature_names'"
     ]
    }
   ],
   "source": [
    "coefs=clf.coef_[0]\n",
    "top_three = np.argpartition(coefs, -20)[-20:]\n",
    "\n",
    "print(np.array(vectorizer.get_feature_names())[top_three])"
   ]
  },
  {
   "cell_type": "markdown",
   "metadata": {},
   "source": [
    "### We can perfectly predict paragraphs from Frankenstein! We saw issues of high dimensionality when using bag of words (more features than samples) and how regularization helps."
   ]
  },
  {
   "cell_type": "markdown",
   "metadata": {},
   "source": [
    "### Alternative text representation: word emdeddings, pretrained on intergraded in Spacy (300-dimensional word vectors trained on Common Crawl with GloVe.) Depending on the application, might be suitable or not"
   ]
  },
  {
   "cell_type": "code",
   "execution_count": 58,
   "metadata": {},
   "outputs": [
    {
     "name": "stdout",
     "output_type": "stream",
     "text": [
      "I am already far north of London, and as I walk in the streets of Petersburgh, I feel a cold northern breeze play upon my cheeks, which braces my nerves and fills me with delight. \n",
      "\n",
      "Embedding representation: [0.20092024, -0.07697439, -0.23990457, -0.042964943, 0.06303607, 0.093752295, 0.36673707, -0.08795004, 0.37766424, -0.11488468] ...\n"
     ]
    }
   ],
   "source": [
    "print(example,'\\n')\n",
    "print('Embedding representation:',list((nlp(example).vector)[0:10]),'...')"
   ]
  },
  {
   "cell_type": "markdown",
   "metadata": {},
   "source": [
    "# Task 3: Topic detection"
   ]
  },
  {
   "cell_type": "code",
   "execution_count": 59,
   "metadata": {},
   "outputs": [
    {
     "name": "stdout",
     "output_type": "stream",
     "text": [
      "DRACULA.txt\n",
      "Number of sentences: 9303\n",
      "Number of chunks: 187 \n",
      "\n",
      "Frankenstein.txt\n",
      "Number of sentences: 3378\n",
      "Number of chunks: 68 \n",
      "\n",
      "Moby_Dick.txt\n",
      "Number of sentences: 9609\n",
      "Number of chunks: 193 \n",
      "\n",
      "PRIDE_AND_PREJUDICE.txt\n",
      "Number of sentences: 6055\n",
      "Number of chunks: 122 \n",
      "\n"
     ]
    }
   ],
   "source": [
    "# Get the chunks again (into smaller chunks)\n",
    "book_id = {f:n for n,f in enumerate(our_books.fileids())} # dictionary of books\n",
    "chunks = list()\n",
    "chunk_class = list() # this list contains the original book of the chunk, for evaluation\n",
    "\n",
    "limit = 60 # how many chunks total\n",
    "size = 50 # how many sentences per chunk/page\n",
    "\n",
    "for f in our_books.fileids():\n",
    "    sentences = our_books.sents(f)\n",
    "    print(f)\n",
    "    print('Number of sentences:',len(sentences))\n",
    "    \n",
    "    # create chunks\n",
    "    chunks_of_sents = [x for x in get_chunks(sentences,size)] # this is a list of lists of sentences, which are a list of tokens\n",
    "    chs = list()\n",
    "    \n",
    "    # regroup so to have a list of chunks which are strings\n",
    "    for c in chunks_of_sents:\n",
    "        grouped_chunk = list()\n",
    "        for s in c:\n",
    "            grouped_chunk.extend(s)\n",
    "        chs.append(\" \".join(grouped_chunk))\n",
    "    print(\"Number of chunks:\",len(chs),'\\n')\n",
    "    \n",
    "    # filter to the limit, to have the same number of chunks per book\n",
    "    chunks.extend(chs[:limit])\n",
    "    chunk_class.extend([book_id[f] for _ in range(len(chs[:limit]))])"
   ]
  },
  {
   "cell_type": "code",
   "execution_count": 60,
   "metadata": {},
   "outputs": [],
   "source": [
    "STOPWORDS = spacy.lang.en.stop_words.STOP_WORDS\n",
    "\n",
    "processed_docs = list()\n",
    "for doc in nlp.pipe(chunks, n_process=5, batch_size=10):\n",
    "\n",
    "    # Process document using Spacy NLP pipeline.\n",
    "    ents = doc.ents  # Named entities\n",
    "\n",
    "    # Keep only words (no numbers, no punctuation).\n",
    "    # Lemmatize tokens, remove punctuation and remove stopwords.\n",
    "    doc = [token.lemma_ for token in doc if token.is_alpha and not token.is_stop]\n",
    "\n",
    "    # Remove common words from a stopword list and keep only words of length 3 or more.\n",
    "    doc = [token for token in doc if token not in STOPWORDS and len(token) > 2]\n",
    "\n",
    "    # Add named entities, but only if they are a compound of more than word.\n",
    "    doc.extend([str(entity) for entity in ents if len(entity) > 1])\n",
    "\n",
    "    processed_docs.append(doc)\n",
    "docs = processed_docs\n",
    "del processed_docs"
   ]
  },
  {
   "cell_type": "code",
   "execution_count": 61,
   "metadata": {},
   "outputs": [],
   "source": [
    "# Add bigrams too\n",
    "from gensim.models.phrases import Phrases\n",
    "\n",
    "# Add bigrams to docs (only ones that appear 15 times or more).\n",
    "bigram = Phrases(docs, min_count=15)\n",
    "\n",
    "for idx in range(len(docs)):\n",
    "    for token in bigram[docs[idx]]:\n",
    "        if '_' in token:\n",
    "            # Token is a bigram, add to document.\n",
    "            docs[idx].append(token)"
   ]
  },
  {
   "cell_type": "code",
   "execution_count": 62,
   "metadata": {},
   "outputs": [
    {
     "name": "stdout",
     "output_type": "stream",
     "text": [
      "Number of unique tokens: 3087\n",
      "Number of chunks: 240\n"
     ]
    }
   ],
   "source": [
    "# Create a dictionary representation of the documents, and filter out frequent and rare words.\n",
    "from gensim.corpora import Dictionary\n",
    "dictionary = Dictionary(docs)\n",
    "\n",
    "# Remove rare and common tokens.\n",
    "# Filter out words that occur too frequently or too rarely.\n",
    "max_freq = 0.5\n",
    "min_wordcount = 5\n",
    "dictionary.filter_extremes(no_below=min_wordcount, no_above=max_freq)\n",
    "\n",
    "# Bag-of-words representation of the documents.\n",
    "corpus = [dictionary.doc2bow(doc) for doc in docs]\n",
    "#MmCorpus.serialize(\"models/corpus.mm\", corpus)\n",
    "\n",
    "print('Number of unique tokens: %d' % len(dictionary))\n",
    "print('Number of chunks: %d' % len(corpus))"
   ]
  },
  {
   "cell_type": "code",
   "execution_count": 63,
   "metadata": {},
   "outputs": [],
   "source": [
    "# models\n",
    "from gensim.models import LdaMulticore\n",
    "params = {'passes': 10, 'random_state': seed}\n",
    "base_models = dict()\n",
    "model = LdaMulticore(corpus=corpus, num_topics=4, id2word=dictionary, workers=6,\n",
    "                passes=params['passes'], random_state=params['random_state'])"
   ]
  },
  {
   "cell_type": "code",
   "execution_count": 64,
   "metadata": {},
   "outputs": [
    {
     "data": {
      "text/plain": [
       "[(0,\n",
       "  '0.008*\"father\" + 0.006*\"life\" + 0.005*\"Elizabeth\" + 0.005*\"feeling\" + 0.004*\"love\"'),\n",
       " (1,\n",
       "  '0.007*\"room\" + 0.006*\"door\" + 0.006*\"sleep\" + 0.006*\"Lucy\" + 0.005*\"old\"'),\n",
       " (2,\n",
       "  '0.017*\"whale\" + 0.011*\"ship\" + 0.010*\"sea\" + 0.008*\"Queequeg\" + 0.008*\"old\"'),\n",
       " (3,\n",
       "  '0.016*\"Elizabeth\" + 0.012*\"Darcy\" + 0.011*\"Bingley\" + 0.010*\"Miss\" + 0.009*\"Mrs\"')]"
      ]
     },
     "execution_count": 64,
     "metadata": {},
     "output_type": "execute_result"
    }
   ],
   "source": [
    "model.show_topics(num_words=5)"
   ]
  },
  {
   "cell_type": "code",
   "execution_count": 65,
   "metadata": {},
   "outputs": [
    {
     "data": {
      "text/plain": [
       "[('room', 0.0069180503),\n",
       " ('door', 0.006480097),\n",
       " ('sleep', 0.0059975754),\n",
       " ('Lucy', 0.0055162236),\n",
       " ('old', 0.004992741),\n",
       " ('Count', 0.0048014037),\n",
       " ('window', 0.004471766),\n",
       " ('dear', 0.004363138),\n",
       " ('fear', 0.004238629),\n",
       " ('open', 0.00399011),\n",
       " ('ask', 0.0039046886),\n",
       " ('light', 0.003692993),\n",
       " ('try', 0.0035807379),\n",
       " ('sit', 0.0035352698),\n",
       " ('run', 0.0035103296),\n",
       " ('write', 0.0034752563),\n",
       " ('fall', 0.0034289975),\n",
       " ('lie', 0.003403259),\n",
       " ('bed', 0.0032989883),\n",
       " ('pass', 0.0032579936)]"
      ]
     },
     "execution_count": 65,
     "metadata": {},
     "output_type": "execute_result"
    }
   ],
   "source": [
    "model.show_topic(1,20)"
   ]
  },
  {
   "cell_type": "code",
   "execution_count": 66,
   "metadata": {},
   "outputs": [
    {
     "data": {
      "text/plain": [
       "[(1, 0.9972272)]"
      ]
     },
     "execution_count": 66,
     "metadata": {},
     "output_type": "execute_result"
    }
   ],
   "source": [
    "sorted(model[corpus[0]],key=lambda x:x[1],reverse=True)"
   ]
  },
  {
   "cell_type": "code",
   "execution_count": 67,
   "metadata": {},
   "outputs": [
    {
     "data": {
      "text/html": [
       "\n",
       "<link rel=\"stylesheet\" type=\"text/css\" href=\"https://cdn.jsdelivr.net/gh/bmabey/pyLDAvis@3.4.0/pyLDAvis/js/ldavis.v1.0.0.css\">\n",
       "\n",
       "\n",
       "<div id=\"ldavis_el92596110798249126394267984\" style=\"background-color:white;\"></div>\n",
       "<script type=\"text/javascript\">\n",
       "\n",
       "var ldavis_el92596110798249126394267984_data = {\"mdsDat\": {\"x\": [0.15975267963868828, -0.1455408049001613, 0.04572101245117675, -0.059932887189703785], \"y\": [-0.07474579522745638, -0.07465142939792593, 0.09493089229842483, 0.054466332326957564], \"topics\": [1, 2, 3, 4], \"cluster\": [1, 1, 1, 1], \"Freq\": [26.73420732869368, 25.36155835337211, 24.123437629813555, 23.78079668812065]}, \"tinfo\": {\"Term\": [\"whale\", \"Darcy\", \"Elizabeth\", \"Bingley\", \"ship\", \"Miss\", \"Bennet\", \"Queequeg\", \"Collins\", \"Mrs\", \"Jane\", \"sea\", \"Captain\", \"Ahab\", \"sister\", \"Lucy\", \"Count\", \"Lady\", \"father\", \"Mrs_Bennet\", \"Catherine\", \"old\", \"Wickham\", \"Bildad\", \"Charlotte\", \"Lady_Catherine\", \"Peleg\", \"sleep\", \"harpooneer\", \"Miss_Bingley\", \"Darcy\", \"Bingley\", \"Collins\", \"Jane\", \"Bennet\", \"Wickham\", \"Charlotte\", \"Mrs_Bennet\", \"Catherine\", \"Lady_Catherine\", \"Miss_Bingley\", \"Lucas\", \"Lady Catherine\", \"Netherfield\", \"Longbourn\", \"Lady\", \"Lizzy\", \"Lydia\", \"Miss Bingley\", \"Miss_Bennet\", \"Hurst\", \"Bourgh\", \"Meryton\", \"Colonel\", \"Fitzwilliam\", \"Hertfordshire\", \"Miss_Lucas\", \"Colonel_Fitzwilliam\", \"Miss\", \"Rosings\", \"Sir_William\", \"Mrs\", \"dance\", \"sister\", \"Elizabeth\", \"lady\", \"daughter\", \"young_lady\", \"young\", \"family\", \"wish\", \"gentleman\", \"hope\", \"manner\", \"reply\", \"attention\", \"dear\", \"room\", \"believe\", \"walk\", \"girl\", \"father\", \"mean\", \"whale\", \"Ahab\", \"Bildad\", \"Peleg\", \"Whale\", \"Queequeg\", \"mast\", \"Nantucket\", \"Pequod\", \"ship\", \"Stubb\", \"Captain_Ahab\", \"whaling\", \"Flask\", \"leg\", \"whaleman\", \"Captain_Peleg\", \"oil\", \"pipe\", \"Starbuck\", \"harpooneer\", \"harpoon\", \"mast_head\", \"whale_ship\", \"shipmate\", \"Greenland\", \"captain\", \"Cape\", \"sperm\", \"Jonah\", \"Captain\", \"thou\", \"crew\", \"deck\", \"sea\", \"mate\", \"sailor\", \"sail\", \"cabin\", \"voyage\", \"head\", \"old\", \"stand\", \"sort\", \"round\", \"God\", \"world\", \"water\", \"chapter\", \"boat\", \"right\", \"small\", \"foot\", \"Justine\", \"Safie\", \"Ingolstadt\", \"Victor\", \"Ernest\", \"Geneva\", \"Felix\", \"undertaking\", \"Clerval\", \"victim\", \"Frankenstein\", \"remorse\", \"enterprise\", \"government\", \"unfortunate\", \"protector\", \"murderer\", \"dearest\", \"innocence\", \"ardently\", \"union\", \"sympathize\", \"crime\", \"accent\", \"ardent\", \"shed\", \"Arabian\", \"disaster\", \"celestial\", \"execute\", \"torture\", \"enthusiasm\", \"Henry\", \"creator\", \"forever\", \"tale\", \"misery\", \"grief\", \"murder\", \"despair\", \"weep\", \"misfortune\", \"science\", \"father\", \"human\", \"possess\", \"endeavour\", \"pursue\", \"miserable\", \"death\", \"month\", \"tear\", \"life\", \"feeling\", \"appear\", \"desire\", \"creature\", \"child\", \"discover\", \"love\", \"remain\", \"return\", \"mind\", \"countenance\", \"spirit\", \"heart\", \"Elizabeth\", \"dear\", \"hope\", \"pass\", \"enter\", \"nature\", \"year\", \"word\", \"believe\", \"wish\", \"Count\", \"Lucy\", \"Jonathan\", \"Dracula\", \"valley\", \"Helsing\", \"Van_Helsing\", \"diary\", \"later\", \"Van Helsing\", \"Hawkins\", \"Diary\", \"Renfield\", \"key\", \"driver\", \"courtyard\", \"Westenra\", \"Bistritz\", \"Pass\", \"abbey\", \"wolf\", \"glacier\", \"Van\", \"Arthur\", \"Mina\", \"Slovaks\", \"Transylvania\", \"Last night\", \"Seward ' s\", \"Harker\", \"asleep\", \"castle\", \"patient\", \"Seward\", \"creep\", \"window\", \"harbour\", \"door\", \"outside\", \"lock\", \"sleep\", \"mountain\", \"whilst\", \"awake\", \"room\", \"fall\", \"run\", \"fear\", \"lie\", \"open\", \"ask\", \"bed\", \"try\", \"close\", \"light\", \"write\", \"sound\", \"sit\", \"old\", \"dear\", \"work\", \"wind\", \"face\", \"pass\", \"letter\", \"want\", \"morning\", \"mind\", \"heart\", \"life\", \"house\"], \"Freq\": [316.0, 232.0, 394.0, 208.0, 206.0, 195.0, 170.0, 157.0, 146.0, 194.0, 143.0, 215.0, 120.0, 104.0, 180.0, 99.0, 85.0, 90.0, 220.0, 79.0, 79.0, 278.0, 77.0, 73.0, 73.0, 72.0, 68.0, 157.0, 73.0, 69.0, 230.69740067152082, 206.7340467466394, 145.6034710880568, 142.74487549653387, 169.39055816366266, 76.75580771492776, 72.93846590374686, 78.61575199046145, 78.60412950032229, 71.92602596398248, 68.12692791277334, 58.57715462117927, 60.448179853443115, 49.01462571491798, 40.39759138724761, 88.20637237347643, 36.57608340937823, 36.56903209830907, 34.659305430106144, 34.653275751392606, 29.8890172675846, 30.816450114240386, 29.87483045747935, 29.871849748379454, 28.917927271692346, 24.144885935116694, 23.19056299674899, 23.183413845610147, 188.80927270628678, 21.279320945141073, 38.4710885601183, 178.97580871959693, 60.501040795281945, 150.8432027310089, 303.40094574188737, 96.9276177521204, 69.37557653427724, 34.09787408136208, 117.71723094565255, 74.65899945672265, 97.76788647343348, 44.845168869670175, 85.43387604328187, 80.21021747596468, 66.4096754151579, 57.144894319121555, 86.77495850178907, 88.3800271204263, 67.42544191729178, 67.06650538255197, 62.006216978114765, 63.57308701326413, 62.50957910782178, 314.738143131375, 103.23693692150643, 72.38871213508475, 67.70296622244445, 61.14170885414916, 155.4181110552417, 51.75215881543432, 49.863864579483206, 44.23423057177101, 202.69820058537027, 41.442434228478625, 37.70314073765654, 36.733898617363714, 36.728191479386176, 35.77063345057308, 34.849612760846895, 28.334204605025477, 29.235893552041055, 28.301295745114146, 26.452023309600985, 70.93385387499058, 34.56655684876423, 23.64991353769412, 20.83755940994709, 30.812837940731903, 22.619753547506395, 42.48771683919231, 19.870741312327777, 18.026803669368125, 57.68679229221846, 114.41090869475214, 69.05359798315003, 31.232060034749924, 62.44196066009084, 180.38095988706058, 60.46767945421793, 42.690117336120394, 70.81927941060034, 44.34816611299885, 56.71393248537103, 112.57586093369888, 149.83760074121062, 77.24732993363472, 76.23684705002916, 66.03303261133591, 63.721658998626275, 69.86108030010067, 54.3592545602161, 53.711589374830126, 46.4839351481651, 49.42307667021042, 47.49940853971471, 46.77214129898242, 55.1424662978128, 24.812554164044005, 16.542794708386, 24.230638739186038, 13.52285371207983, 35.322902354019476, 46.76024465324373, 10.483677802047387, 51.26988901399744, 16.921426958189812, 15.008607847029316, 11.247209534845958, 9.356198957986624, 7.469466114248783, 12.104373012915683, 13.874780670445563, 27.73154907658835, 7.403908083322095, 18.496382145789298, 11.021179537016184, 15.586072047789662, 8.213198831005206, 23.691213204872465, 10.02175243194639, 7.281029249826493, 8.184387010081819, 12.599014264189893, 5.403646440470829, 5.381542766195482, 5.376419649530543, 16.881945955521367, 10.713860290992212, 25.554882014523308, 16.794562965112345, 28.422917802481432, 29.161281024855338, 47.24723895610854, 26.080590469410588, 37.93497017174033, 36.759514400049895, 25.174359842310892, 31.614472171394443, 28.007021949467404, 136.46388731563255, 49.85582463542092, 38.50263264563627, 48.75634353924171, 27.580706372147368, 45.202932163370654, 65.56724545332493, 43.48448043360937, 41.42385932967237, 100.13817837551713, 81.67707135944241, 70.7182397570076, 51.59330083127471, 52.39164265584593, 49.69040252954212, 41.732036791412575, 73.86139527644957, 55.278093125045544, 65.01629970756683, 67.51078786586771, 41.70415094007776, 49.154202490181206, 60.45608221398444, 86.63803452955527, 69.12884888830554, 60.32995324776442, 59.52492226816089, 51.55201203210352, 44.618039674425255, 47.88725435306727, 49.66856525117391, 46.7550337645169, 45.257122942352474, 83.47673773468898, 95.9045265342667, 33.10946514926139, 14.742937711776838, 18.12029037970354, 23.092133724702226, 23.080244834172465, 12.832634465108061, 21.344879709858766, 21.31407869928983, 14.38624670805856, 10.117994340884966, 10.11831413058597, 30.368656917163033, 26.82329422907454, 10.055132388804843, 18.339516339669615, 8.345356512527882, 8.307286358217434, 7.463237368156841, 19.885300818894567, 7.451257904278218, 23.90333494890818, 37.167420368278925, 31.28480785887661, 6.5916469960935675, 7.401753750167758, 7.394086387289077, 7.377720440945247, 6.5616439417880565, 25.125739176941043, 30.759354924402093, 21.865618782221638, 16.136124820037164, 9.78610323087816, 77.74568530370847, 21.66784099606283, 112.66233265298455, 17.64548565711475, 28.819889083385668, 104.27326109072784, 44.488936757279845, 29.67563215537652, 31.011679118422173, 120.27654972173558, 59.61621614999191, 61.03024929638831, 73.69238727521, 59.168729159013644, 69.37166409725349, 67.88653643796154, 57.355889919667895, 62.25435974415502, 53.34768628698201, 64.20601604953316, 60.42046700816463, 44.637003436815995, 61.46385579515461, 86.80331164366847, 75.85709638493356, 50.15302765365248, 42.76526622089277, 49.74806864493696, 56.64315963554605, 49.89252858240228, 47.455245304237415, 48.27433197575422, 50.20444902797988, 48.45855108338751, 48.808834149173, 46.56990549302002], \"Total\": [316.0, 232.0, 394.0, 208.0, 206.0, 195.0, 170.0, 157.0, 146.0, 194.0, 143.0, 215.0, 120.0, 104.0, 180.0, 99.0, 85.0, 90.0, 220.0, 79.0, 79.0, 278.0, 77.0, 73.0, 73.0, 72.0, 68.0, 157.0, 73.0, 69.0, 232.11684738594337, 208.14336245228762, 146.75563334641623, 143.87915682295022, 170.74047288924692, 77.68948743280036, 73.85659051354675, 79.61660192167923, 79.6148437011829, 72.8993702951353, 69.06127585086858, 59.46954858701301, 61.38961878602929, 49.87715616272587, 41.24492847268636, 90.11841254964429, 37.40835346712463, 37.40841144259642, 35.488998157487664, 35.49005645267599, 30.693383502116223, 31.654636122823476, 30.694224756856336, 30.69320960297496, 29.73457854957714, 24.939194585612142, 23.97933909040992, 23.979284589942562, 195.42320958449346, 22.060968224906446, 40.26482584798989, 194.46580350149145, 66.12790727807956, 180.5920755954887, 394.6171916711105, 126.70578195573887, 89.12947692608203, 36.37709217858995, 220.5957216324397, 116.02494360390943, 189.20391224903761, 54.560513780820266, 174.8535809418803, 156.1046079836675, 111.6453976079617, 87.68153849343113, 238.10085952926212, 250.92677856702932, 136.71722845379895, 134.5200577768104, 111.52683518112548, 220.25336933239657, 160.0948730705084, 316.65912612260576, 104.31371342799788, 73.30125957442715, 68.60346972199068, 62.02738119271894, 157.82633864873324, 52.63362438777602, 50.7531729933433, 45.12019915017248, 206.8270261841588, 42.29986278887047, 38.54142555104904, 37.599967694577686, 37.60618984474383, 36.661334699942536, 35.720424374287695, 29.14516589344493, 30.084961773194102, 29.14401428447438, 27.26706988609664, 73.266129575196, 35.714810224558676, 24.447984535993676, 21.628616940305296, 31.990892154833052, 23.511718631981278, 44.228010915522276, 20.68832727229024, 18.80935082073968, 60.309141964680485, 120.4652171708113, 73.5866341636941, 32.96588067845302, 68.09210518347419, 215.40468870580696, 66.96029049969361, 46.294935995462566, 84.97871658570249, 49.24703701623753, 71.66648620774103, 181.4767289560471, 278.0705768869488, 139.37549232489573, 145.17039438820535, 119.66348950722222, 116.47620298594177, 157.6297197310564, 93.97613068794553, 118.69672025501639, 69.43542864248222, 103.38752065983688, 92.76099636091662, 94.60526899927007, 56.75901791511912, 25.777293763533244, 17.495493055627225, 25.708478736186517, 14.397455292633424, 37.97916931292097, 50.28836861210316, 11.300141650381422, 55.38899717453549, 18.451839521870287, 16.399552053760303, 12.309676583099714, 10.253210564126096, 8.204288822581878, 13.31784899959383, 15.354494783244283, 30.69639358184528, 8.196202174669569, 20.48797925826026, 12.28546120512124, 17.428947588311953, 9.2051051138309, 26.558041722432765, 11.244412321977489, 8.182101282764576, 9.201989754152217, 14.288452697254822, 6.133385334982851, 6.1313725850030085, 6.130251003751131, 19.385505419215683, 12.25848223169806, 29.56869368015187, 19.35198008161017, 33.55466876469575, 34.55584175497549, 59.70745364130212, 31.517435947886714, 47.45638695778668, 47.34687663785803, 31.32636009273653, 40.595015066708584, 35.396121047146345, 220.25336933239657, 71.11269538881075, 52.503394334962124, 70.53761875051977, 35.4423468071558, 65.83718502568904, 106.19429386920346, 66.915988142525, 64.6055034736409, 218.09803730631668, 166.70224180389175, 136.24772211445242, 88.4517668291154, 92.04400682432899, 86.15089880313617, 66.65949109518185, 185.34018708606564, 116.49837045117759, 159.63809968619321, 172.57333359613278, 71.6998432048188, 102.11458336560767, 162.54150850461846, 394.6171916711105, 238.10085952926212, 174.8535809418803, 181.45195784537628, 124.71021612666638, 88.60759998590422, 129.5658881994631, 170.45448272203686, 136.71722845379895, 189.20391224903761, 85.13276746303593, 99.76816110275574, 34.816978515150446, 15.591598125114059, 19.2684629002689, 24.74900836225833, 24.749062666067164, 13.766975247471468, 22.92595069225957, 22.919880640511384, 15.626690090516627, 11.018181743745533, 11.018751638015484, 33.10895592042204, 29.44111834271902, 11.039821126486672, 20.184929311544575, 9.196629987528299, 9.20115906184337, 8.274769936798437, 22.058684372934366, 8.277431113022578, 26.604562576465447, 41.36772374035594, 34.87525248363895, 7.360201319197227, 8.284954829668125, 8.279163033355694, 8.275894164056504, 7.361389724888306, 28.458178394900244, 34.913039256860955, 24.799712242464278, 18.3657196523162, 11.069097481877577, 99.94187352453838, 25.72827017927746, 160.72478022236706, 21.161186043218386, 36.874532981306096, 157.89710340640332, 63.236140527103544, 39.290816738594586, 42.223687698538825, 250.92677856702932, 101.6745246749129, 112.52873855821704, 147.74963254519577, 108.85461247862241, 139.20791566469507, 136.77731131178638, 106.89195198105139, 122.28443765063005, 98.69184082834292, 139.564818010584, 126.79647961655053, 77.10088508669537, 146.3238713046829, 278.0705768869488, 238.10085952926212, 112.61151631406847, 83.64428747630996, 123.53488835009333, 181.45195784537628, 141.17140458710406, 125.54539976533567, 143.44064976531277, 172.57333359613278, 162.54150850461846, 218.09803730631668, 162.7469251325999], \"Category\": [\"Default\", \"Default\", \"Default\", \"Default\", \"Default\", \"Default\", \"Default\", \"Default\", \"Default\", \"Default\", \"Default\", \"Default\", \"Default\", \"Default\", \"Default\", \"Default\", \"Default\", \"Default\", \"Default\", \"Default\", \"Default\", \"Default\", \"Default\", \"Default\", \"Default\", \"Default\", \"Default\", \"Default\", \"Default\", \"Default\", \"Topic1\", \"Topic1\", \"Topic1\", \"Topic1\", \"Topic1\", \"Topic1\", \"Topic1\", \"Topic1\", \"Topic1\", \"Topic1\", \"Topic1\", \"Topic1\", \"Topic1\", \"Topic1\", \"Topic1\", \"Topic1\", \"Topic1\", \"Topic1\", \"Topic1\", \"Topic1\", \"Topic1\", \"Topic1\", \"Topic1\", \"Topic1\", \"Topic1\", \"Topic1\", \"Topic1\", \"Topic1\", \"Topic1\", \"Topic1\", \"Topic1\", \"Topic1\", \"Topic1\", \"Topic1\", \"Topic1\", \"Topic1\", \"Topic1\", \"Topic1\", \"Topic1\", \"Topic1\", \"Topic1\", \"Topic1\", \"Topic1\", \"Topic1\", \"Topic1\", \"Topic1\", \"Topic1\", \"Topic1\", \"Topic1\", \"Topic1\", \"Topic1\", \"Topic1\", \"Topic1\", \"Topic2\", \"Topic2\", \"Topic2\", \"Topic2\", \"Topic2\", \"Topic2\", \"Topic2\", \"Topic2\", \"Topic2\", \"Topic2\", \"Topic2\", \"Topic2\", \"Topic2\", \"Topic2\", \"Topic2\", \"Topic2\", \"Topic2\", \"Topic2\", \"Topic2\", \"Topic2\", \"Topic2\", \"Topic2\", \"Topic2\", \"Topic2\", \"Topic2\", \"Topic2\", \"Topic2\", \"Topic2\", \"Topic2\", \"Topic2\", \"Topic2\", \"Topic2\", \"Topic2\", \"Topic2\", \"Topic2\", \"Topic2\", \"Topic2\", \"Topic2\", \"Topic2\", \"Topic2\", \"Topic2\", \"Topic2\", \"Topic2\", \"Topic2\", \"Topic2\", \"Topic2\", \"Topic2\", \"Topic2\", \"Topic2\", \"Topic2\", \"Topic2\", \"Topic2\", \"Topic2\", \"Topic3\", \"Topic3\", \"Topic3\", \"Topic3\", \"Topic3\", \"Topic3\", \"Topic3\", \"Topic3\", \"Topic3\", \"Topic3\", \"Topic3\", \"Topic3\", \"Topic3\", \"Topic3\", \"Topic3\", \"Topic3\", \"Topic3\", \"Topic3\", \"Topic3\", \"Topic3\", \"Topic3\", \"Topic3\", \"Topic3\", \"Topic3\", \"Topic3\", \"Topic3\", \"Topic3\", \"Topic3\", \"Topic3\", \"Topic3\", \"Topic3\", \"Topic3\", \"Topic3\", \"Topic3\", \"Topic3\", \"Topic3\", \"Topic3\", \"Topic3\", \"Topic3\", \"Topic3\", \"Topic3\", \"Topic3\", \"Topic3\", \"Topic3\", \"Topic3\", \"Topic3\", \"Topic3\", \"Topic3\", \"Topic3\", \"Topic3\", \"Topic3\", \"Topic3\", \"Topic3\", \"Topic3\", \"Topic3\", \"Topic3\", \"Topic3\", \"Topic3\", \"Topic3\", \"Topic3\", \"Topic3\", \"Topic3\", \"Topic3\", \"Topic3\", \"Topic3\", \"Topic3\", \"Topic3\", \"Topic3\", \"Topic3\", \"Topic3\", \"Topic3\", \"Topic3\", \"Topic3\", \"Topic3\", \"Topic3\", \"Topic3\", \"Topic4\", \"Topic4\", \"Topic4\", \"Topic4\", \"Topic4\", \"Topic4\", \"Topic4\", \"Topic4\", \"Topic4\", \"Topic4\", \"Topic4\", \"Topic4\", \"Topic4\", \"Topic4\", \"Topic4\", \"Topic4\", \"Topic4\", \"Topic4\", \"Topic4\", \"Topic4\", \"Topic4\", \"Topic4\", \"Topic4\", \"Topic4\", \"Topic4\", \"Topic4\", \"Topic4\", \"Topic4\", \"Topic4\", \"Topic4\", \"Topic4\", \"Topic4\", \"Topic4\", \"Topic4\", \"Topic4\", \"Topic4\", \"Topic4\", \"Topic4\", \"Topic4\", \"Topic4\", \"Topic4\", \"Topic4\", \"Topic4\", \"Topic4\", \"Topic4\", \"Topic4\", \"Topic4\", \"Topic4\", \"Topic4\", \"Topic4\", \"Topic4\", \"Topic4\", \"Topic4\", \"Topic4\", \"Topic4\", \"Topic4\", \"Topic4\", \"Topic4\", \"Topic4\", \"Topic4\", \"Topic4\", \"Topic4\", \"Topic4\", \"Topic4\", \"Topic4\", \"Topic4\", \"Topic4\", \"Topic4\", \"Topic4\", \"Topic4\", \"Topic4\"], \"logprob\": [30.0, 29.0, 28.0, 27.0, 26.0, 25.0, 24.0, 23.0, 22.0, 21.0, 20.0, 19.0, 18.0, 17.0, 16.0, 15.0, 14.0, 13.0, 12.0, 11.0, 10.0, 9.0, 8.0, 7.0, 6.0, 5.0, 4.0, 3.0, 2.0, 1.0, -4.4394, -4.549, -4.8996, -4.9194, -4.7483, -5.5399, -5.5909, -5.5159, -5.5161, -5.6048, -5.6591, -5.8101, -5.7787, -5.9884, -6.1817, -5.4008, -6.2811, -6.2813, -6.3349, -6.3351, -6.483, -6.4524, -6.4835, -6.4836, -6.516, -6.6964, -6.7367, -6.737, -4.6397, -6.8227, -6.2306, -4.6932, -5.7778, -4.8642, -4.1654, -5.3065, -5.6409, -6.3512, -5.1122, -5.5675, -5.2979, -6.0773, -5.4327, -5.4958, -5.6846, -5.8349, -5.4172, -5.3988, -5.6695, -5.6748, -5.7532, -5.7283, -5.7452, -4.076, -5.1907, -5.5457, -5.6126, -5.7146, -4.7817, -5.8813, -5.9185, -6.0383, -4.5161, -6.1035, -6.198, -6.2241, -6.2242, -6.2506, -6.2767, -6.4837, -6.4524, -6.4849, -6.5524, -5.566, -6.2849, -6.6644, -6.791, -6.3998, -6.7089, -6.0786, -6.8385, -6.9359, -5.7727, -5.088, -5.5929, -6.3863, -5.6935, -4.6327, -5.7257, -6.0738, -5.5676, -6.0357, -5.7898, -5.1041, -4.8182, -5.4808, -5.4939, -5.6376, -5.6732, -5.5813, -5.8322, -5.8441, -5.9887, -5.9274, -5.9671, -5.9825, -5.7678, -6.5664, -6.9718, -6.5901, -7.1733, -6.2132, -5.9327, -7.4279, -5.8406, -6.9491, -7.0691, -7.3576, -7.5417, -7.7669, -7.2842, -7.1476, -6.4551, -7.7757, -6.8601, -7.3779, -7.0313, -7.672, -6.6126, -7.473, -7.7924, -7.6755, -7.2441, -8.0906, -8.0947, -8.0957, -6.9515, -7.4062, -6.5369, -6.9567, -6.4305, -6.4049, -5.9223, -6.5165, -6.1418, -6.1733, -6.5519, -6.3241, -6.4453, -4.8617, -5.8686, -6.127, -5.8909, -6.4606, -5.9666, -5.5946, -6.0053, -6.0539, -5.1712, -5.3749, -5.519, -5.8343, -5.819, -5.8719, -6.0465, -5.4755, -5.7653, -5.6031, -5.5654, -6.0471, -5.8828, -5.6758, -5.316, -5.5417, -5.6779, -5.6913, -5.8351, -5.9796, -5.9089, -5.8723, -5.9328, -5.9654, -5.3388, -5.2001, -6.2636, -7.0727, -6.8664, -6.6239, -6.6244, -7.2114, -6.7026, -6.704, -7.0971, -7.4491, -7.4491, -6.35, -6.4741, -7.4553, -6.8544, -7.6417, -7.6463, -7.7534, -6.7734, -7.755, -6.5894, -6.148, -6.3203, -7.8776, -7.7617, -7.7627, -7.765, -7.8822, -6.5395, -6.3372, -6.6785, -6.9824, -7.4825, -5.41, -6.6876, -5.039, -6.8929, -6.4023, -5.1164, -5.9682, -6.3731, -6.3291, -4.9736, -5.6755, -5.652, -5.4635, -5.683, -5.5239, -5.5456, -5.7141, -5.6322, -5.7866, -5.6013, -5.6621, -5.9649, -5.645, -5.2998, -5.4346, -5.8483, -6.0077, -5.8564, -5.7266, -5.8535, -5.9036, -5.8865, -5.8473, -5.8827, -5.8755, -5.9225], \"loglift\": [30.0, 29.0, 28.0, 27.0, 26.0, 25.0, 24.0, 23.0, 22.0, 21.0, 20.0, 19.0, 18.0, 17.0, 16.0, 15.0, 14.0, 13.0, 12.0, 11.0, 10.0, 9.0, 8.0, 7.0, 6.0, 5.0, 4.0, 3.0, 2.0, 1.0, 1.3131, 1.3124, 1.3113, 1.3113, 1.3113, 1.3071, 1.3067, 1.3066, 1.3065, 1.3058, 1.3056, 1.3041, 1.3038, 1.3018, 1.2985, 1.2978, 1.2967, 1.2965, 1.2956, 1.2954, 1.2927, 1.2924, 1.2922, 1.2921, 1.2914, 1.2869, 1.2858, 1.2855, 1.2848, 1.2832, 1.2737, 1.2362, 1.2303, 1.1392, 1.0564, 1.0513, 1.0687, 1.2545, 0.6912, 0.8784, 0.659, 1.1231, 0.603, 0.6534, 0.7997, 0.8911, 0.3099, 0.2757, 0.6123, 0.6232, 0.7322, 0.0766, 0.3788, 1.3659, 1.3616, 1.3594, 1.3587, 1.3576, 1.3566, 1.355, 1.3543, 1.3521, 1.3518, 1.3515, 1.3499, 1.3486, 1.3483, 1.3473, 1.3473, 1.3437, 1.3433, 1.3426, 1.3416, 1.3396, 1.3393, 1.3387, 1.3347, 1.3344, 1.3333, 1.3318, 1.3316, 1.3294, 1.3275, 1.3204, 1.3084, 1.3179, 1.2853, 1.1945, 1.2699, 1.2909, 1.1897, 1.2672, 1.1379, 0.8944, 0.7536, 0.7818, 0.7279, 0.7774, 0.7688, 0.5582, 0.8245, 0.579, 0.9706, 0.6339, 0.7026, 0.6675, 1.3931, 1.3838, 1.366, 1.3628, 1.3593, 1.3495, 1.3492, 1.347, 1.3447, 1.3354, 1.3334, 1.3317, 1.3304, 1.3282, 1.3264, 1.3207, 1.3204, 1.3203, 1.3197, 1.3134, 1.3102, 1.308, 1.3078, 1.3069, 1.3053, 1.3048, 1.2962, 1.2953, 1.2915, 1.2908, 1.2837, 1.2873, 1.2761, 1.2802, 1.256, 1.2523, 1.1879, 1.2326, 1.198, 1.1689, 1.2034, 1.172, 1.1878, 0.9433, 1.0669, 1.1118, 1.0527, 1.1712, 1.046, 0.9398, 0.991, 0.9775, 0.6436, 0.7086, 0.7662, 0.8829, 0.8585, 0.8717, 0.9537, 0.502, 0.6765, 0.5237, 0.4835, 0.8801, 0.6909, 0.433, -0.0942, 0.1853, 0.3579, 0.3074, 0.5386, 0.7359, 0.4266, 0.1889, 0.349, -0.0085, 1.4166, 1.3968, 1.386, 1.3803, 1.3749, 1.367, 1.3665, 1.366, 1.3648, 1.3637, 1.3536, 1.3511, 1.351, 1.3499, 1.3432, 1.3429, 1.3404, 1.3392, 1.3341, 1.3331, 1.3326, 1.3311, 1.3292, 1.3292, 1.3276, 1.326, 1.3236, 1.3232, 1.3214, 1.3213, 1.3117, 1.3096, 1.3104, 1.3069, 1.3131, 1.1851, 1.2645, 1.081, 1.2546, 1.1898, 1.0214, 1.0847, 1.1556, 1.1277, 0.7009, 0.9024, 0.8245, 0.7407, 0.8267, 0.7398, 0.7358, 0.8137, 0.7612, 0.8211, 0.6599, 0.695, 0.8897, 0.5689, 0.2721, 0.2924, 0.6274, 0.7654, 0.5267, 0.2721, 0.3962, 0.4634, 0.3473, 0.2016, 0.2261, -0.0607, 0.185]}, \"token.table\": {\"Topic\": [2, 3, 4, 2, 3, 4, 1, 3, 2, 1, 3, 4, 1, 2, 1, 2, 3, 2, 2, 1, 1, 3, 4, 1, 3, 1, 1, 3, 4, 1, 3, 4, 4, 1, 2, 3, 4, 3, 3, 4, 1, 2, 3, 4, 3, 4, 1, 2, 3, 4, 2, 4, 3, 4, 2, 4, 2, 3, 4, 1, 1, 3, 1, 3, 2, 3, 2, 4, 3, 4, 1, 4, 1, 1, 4, 1, 1, 1, 2, 4, 1, 1, 2, 3, 4, 1, 2, 3, 4, 1, 1, 1, 1, 1, 2, 3, 4, 1, 2, 1, 4, 2, 2, 2, 4, 4, 1, 3, 2, 4, 4, 1, 2, 4, 2, 2, 4, 2, 4, 2, 4, 2, 4, 3, 4, 2, 4, 2, 1, 4, 3, 4, 1, 2, 3, 4, 3, 3, 4, 1, 2, 3, 4, 2, 4, 1, 2, 3, 4, 1, 2, 3, 4, 1, 2, 3, 4, 1, 2, 3, 4, 2, 3, 4, 2, 3, 2, 3, 4, 2, 3, 4, 3, 1, 2, 3, 4, 1, 2, 3, 4, 1, 2, 3, 4, 1, 2, 3, 4, 4, 3, 4, 1, 2, 3, 4, 3, 4, 2, 3, 3, 4, 1, 2, 3, 4, 1, 2, 3, 4, 1, 2, 3, 4, 3, 1, 2, 3, 4, 2, 3, 1, 2, 3, 4, 1, 2, 3, 4, 4, 3, 1, 2, 3, 4, 1, 2, 3, 4, 2, 3, 4, 1, 3, 4, 1, 2, 3, 4, 3, 2, 3, 3, 1, 2, 3, 4, 1, 2, 3, 4, 1, 2, 3, 4, 1, 2, 3, 4, 1, 2, 3, 4, 1, 2, 3, 4, 1, 2, 3, 4, 1, 3, 4, 1, 2, 3, 4, 1, 2, 3, 4, 4, 3, 1, 2, 3, 4, 2, 4, 2, 4, 2, 4, 1, 2, 3, 4, 1, 2, 3, 4, 1, 2, 3, 4, 1, 2, 3, 4, 1, 2, 3, 4, 2, 3, 4, 2, 3, 4, 1, 2, 3, 4, 2, 4, 2, 1, 2, 3, 4, 1, 2, 3, 4, 1, 2, 3, 4, 1, 2, 3, 4, 2, 3, 4, 1, 2, 3, 4, 1, 2, 3, 4, 2, 2, 2, 3, 4, 1, 2, 3, 4, 1, 2, 3, 4, 1, 2, 3, 4, 1, 2, 3, 4, 1, 3, 4, 1, 2, 3, 4, 1, 2, 3, 4, 1, 2, 3, 4, 2, 3, 4, 2, 3, 4, 1, 2, 3, 4, 2, 1, 2, 3, 4, 1, 2, 3, 4, 2, 3, 4, 1, 2, 3, 4, 1, 2, 4, 2, 1, 2, 3, 4, 3, 4, 1, 2, 3, 4, 1, 2, 3, 4, 3, 1, 2, 3, 4, 1, 2, 3, 4, 1, 2, 3, 4, 1, 2, 3, 4, 1, 2, 3, 4, 1, 2, 3, 4, 2, 3, 4, 2, 3, 1, 2, 3, 4, 2, 3, 4, 3, 2, 3, 4, 2, 3, 1, 2, 3, 4, 1, 2, 3, 4, 1, 2, 3, 4, 1, 2, 3, 4, 1, 2, 3, 4, 1, 2, 3, 4, 2, 1, 2, 3, 4, 1, 2, 3, 4, 3, 2, 3, 4, 1, 2, 3, 4, 2, 3, 4, 2, 3, 4, 1, 2, 3, 4, 3, 3, 4, 1, 3, 4, 3, 4, 2, 3, 4, 1, 2, 3, 4, 1, 2, 3, 4, 2, 3, 4, 2, 3, 4, 1, 2, 3, 2, 2, 2, 1, 2, 3, 4, 1, 2, 3, 4, 1, 2, 3, 4, 1, 2, 3, 4, 2, 3, 4, 1, 2, 3, 4, 1, 2, 3, 4, 1, 2, 3, 4, 1, 2, 3, 4, 1, 2, 3, 4, 1, 2, 3, 4, 1, 4], \"Freq\": [0.987406129215171, 0.9098255966160446, 0.06998658435508036, 0.07252030638256692, 0.02417343546085564, 0.8944171120516586, 0.9898063250042894, 0.0058568421597886946, 0.9822477869823519, 0.9945068512451378, 0.004804380923889555, 0.8698838608108548, 0.979319423534568, 0.966728713093582, 0.03320460539516795, 0.9463312537622867, 0.016602302697583976, 0.9859521140355354, 0.9607082046596794, 0.9922772730234755, 0.9884019759429643, 0.920760486767699, 0.054162381574570526, 0.994851077746143, 0.006814048477713309, 0.9774148871381712, 0.959161225754279, 0.011746358421088485, 0.9749477489503443, 0.995188426008189, 0.004308175004364454, 0.9075907652073807, 0.9620566076442705, 0.7678327411861269, 0.0025341014560598244, 0.22046682667720474, 0.010136405824239298, 0.9723940596060204, 0.9346097576267023, 0.05965594197617249, 0.9752954780121614, 0.9838805832963544, 0.9146591291535067, 0.060977275276900444, 0.9215578074292577, 0.05266044613881472, 0.02575633411025674, 0.5494684610188104, 0.16312344936495937, 0.26614878580598633, 0.9782355922171838, 0.9509074049338164, 0.06399307813795259, 0.8959030939313363, 0.04040565930411083, 0.929330163994549, 0.06763910579325016, 0.8793083753122521, 0.06763910579325016, 0.9623406208092229, 0.9774093494101614, 0.9716788172787245, 0.9938896165201185, 0.006950277038602228, 0.9617115765627571, 0.03316246815733645, 0.0287216192400169, 0.9478134349205576, 0.9690090142547981, 0.0176183457137236, 0.9764930108097798, 0.01109651148647477, 0.9773639450202039, 0.9876628523470893, 0.8454960932400886, 0.9890838962617401, 0.9698162048332611, 0.9921043862250613, 0.03006971329169999, 0.9622308253343996, 0.9890823633817456, 0.9773825609750492, 0.08602088261317654, 0.028673627537725514, 0.8888824536694909, 0.9671317977114877, 0.00511709945879094, 0.00511709945879094, 0.025585497293954703, 0.9862211337914454, 0.9861917251856319, 0.9846328374650896, 0.9591590457636263, 0.920470318055828, 0.02571146139820749, 0.015426876838924493, 0.03599604595749048, 0.9922553599777368, 0.9851600806625019, 0.9824136692985439, 0.869455679032384, 0.9912035101950939, 0.9751730007563985, 0.9820920977263263, 0.012672156099694533, 0.9075438242476835, 0.951907449659955, 0.9698457964337254, 0.1088985369406839, 0.8711882955254712, 0.845830053071738, 0.9437517535394244, 0.0248355724615638, 0.9510609420074241, 0.9535311314567498, 0.9692702835619487, 0.8449050289246299, 0.07517507548758617, 0.9021009058510341, 0.043630244663337314, 0.9162351379300836, 0.04040557064696739, 0.9293281248802501, 0.9335441527397064, 0.038897673030821096, 0.04954191241225005, 0.8917544234205008, 0.9834366505087991, 0.991125087118167, 0.845944969281931, 0.889330603828423, 0.0889330603828423, 0.25688502865830587, 0.05137700573166117, 0.5211096295639919, 0.16881016168974383, 0.8555259533080277, 0.8953672814020697, 0.08139702558200633, 0.31437962617923315, 0.06580038687472321, 0.12428961965225496, 0.49715847860901985, 0.10541785065686443, 0.8784820888072036, 0.6500798341291684, 0.03421472811206149, 0.26231291552580477, 0.05702454685343582, 0.04736677701576528, 0.02368338850788264, 0.1894671080630611, 0.7341850437443619, 0.028065723793048575, 0.4022753743670296, 0.0374209650573981, 0.533248752067923, 0.4900625967753684, 0.0292574684642011, 0.3437752544543629, 0.13165860808890495, 0.6624860089342939, 0.07200934879720586, 0.25923365566994105, 0.8934547673496073, 0.08122316066814612, 0.9496244377849619, 0.02261010566154671, 0.02261010566154671, 0.08592778124896283, 0.028642593749654277, 0.8879204062392826, 0.8154780892340026, 0.2864443088819304, 0.4549409611654189, 0.16849665228348848, 0.09267315875591867, 0.15089801941250042, 0.0928603196384618, 0.5803769977403862, 0.1857206392769236, 0.14185569832819853, 0.18238589785054096, 0.14185569832819853, 0.5370251436710373, 0.2510465740989271, 0.08368219136630904, 0.5857753395641633, 0.08368219136630904, 0.9058117776933958, 0.8784630786259845, 0.10334859748540995, 0.11950805250138774, 0.16296552613825602, 0.5649471572792875, 0.15210115772903893, 0.09034160207164213, 0.9034160207164212, 0.9403662017214681, 0.030334393603918326, 0.9036810865361332, 0.07530675721134443, 0.922454717090686, 0.015122208476896493, 0.030244416953792985, 0.04536662543068948, 0.7741546610581361, 0.011219632768958494, 0.16829449153437742, 0.03365889830687548, 0.36539137310131325, 0.02519940504146988, 0.28979315797690364, 0.3191924638586185, 0.8540540912513795, 0.0470835090834387, 0.16950063270037932, 0.6215023199013908, 0.16950063270037932, 0.9105314020317185, 0.07342995177675149, 0.21480633661854484, 0.06783357998480363, 0.5878910265349648, 0.13566715996960726, 0.021120717373792113, 0.021120717373792113, 0.7814665428303081, 0.1689657389903369, 0.9442887610615603, 0.8152104795179936, 0.12001291741902062, 0.09000968806426547, 0.6300678164498583, 0.16501776145115335, 0.12443631885717599, 0.1119926869714584, 0.062218159428587994, 0.7030652015430443, 0.03396610102779287, 0.03396610102779287, 0.9170847277504075, 0.2551829834752873, 0.6946647883493932, 0.05670732966117495, 0.19244614230820947, 0.16037178525684123, 0.41696664166778724, 0.2325390886224198, 0.8777738391025709, 0.0815761675139679, 0.8973378426536468, 0.8156272878452244, 0.08094879214736786, 0.37236444387789214, 0.14570782586526215, 0.4047439607368393, 0.09835305384483782, 0.13769427538277296, 0.17703549692070808, 0.5901183230690269, 0.6464127253191174, 0.060331854363117624, 0.25856509012764695, 0.03447534535035293, 0.29057444248861436, 0.03178157964719219, 0.6174706902883055, 0.059022933630499784, 0.0947548887860515, 0.11505950781163396, 0.2842646663581545, 0.5008472692977007, 0.32393085669193045, 0.023994878273476333, 0.4918950046062648, 0.15596670877759616, 0.010570235786843072, 0.4968010819816244, 0.08456188629474458, 0.40166895990003676, 0.02980211209988582, 0.834459138796803, 0.11920844839954328, 0.824772291932099, 0.10996963892427986, 0.036656546308093285, 0.036656546308093285, 0.5559200160150579, 0.07173161496968489, 0.17932903742421222, 0.18829548929542284, 0.8456729998014912, 0.8532122834014405, 0.031728469335306174, 0.09518540800591851, 0.8249402027179604, 0.031728469335306174, 0.1166032531178997, 0.8550905228645977, 0.9799856076494802, 0.027999588789985146, 0.9690698882507478, 0.02729774333100698, 0.0936759225152076, 0.6226693673069681, 0.060613832215722564, 0.22592428371314774, 0.1415023166180747, 0.18456823906705394, 0.3691364781341079, 0.29530918250728627, 0.486121013605396, 0.03431442448979266, 0.34314424489792655, 0.13153862721087187, 0.3318035038511658, 0.1659017519255829, 0.21505782657020003, 0.28879193853712576, 0.07031093354938037, 0.08437312025925643, 0.7031093354938036, 0.1546840538086368, 0.048809108374942546, 0.8785639507489658, 0.048809108374942546, 0.030203308204689923, 0.030203308204689923, 0.9060992461406977, 0.7655530671353596, 0.03946149830594637, 0.09470759593427129, 0.10259989559546057, 0.04361869278283092, 0.9159925484394493, 0.9819609759067617, 0.3470957885792412, 0.03541793761012666, 0.2620927383149373, 0.3541793761012666, 0.01837313049451876, 0.2847835226650408, 0.14698504395615009, 0.5420073495883034, 0.1558931956469068, 0.1604782896365217, 0.4585093989614905, 0.22466960549113035, 0.057321036304388076, 0.3152656996741344, 0.16479797937511573, 0.4585682904351046, 0.1898329126920392, 0.02711898752743417, 0.7864506382955909, 0.3129380676251653, 0.05935032317028997, 0.3992658104183144, 0.22661032483201626, 0.5124768642855823, 0.09608941205354668, 0.26264439294636094, 0.12811921607139556, 0.9879616044848476, 0.981676013606188, 0.89605346022617, 0.05973689734841133, 0.0448026730113085, 0.3935166616625741, 0.22486666380718517, 0.18738888650598765, 0.1936351827228539, 0.14486595048633996, 0.17383914058360794, 0.3940353853228447, 0.2897319009726799, 0.06075593904021319, 0.015188984760053297, 0.6835043142023984, 0.22783477140079947, 0.08374163852369167, 0.016748327704738334, 0.7871714021227016, 0.11723829393316833, 0.17243496494574784, 0.7882741254662758, 0.04926713284164224, 0.17932934016368535, 0.029888223360614224, 0.6425968022532058, 0.14944111680307112, 0.27188945437579226, 0.2300603075487473, 0.16034506283700567, 0.33463317461635966, 0.015813741820176256, 0.015813741820176256, 0.2530198691228201, 0.6958046400877553, 0.04214395844713245, 0.8007352104955165, 0.1685758337885298, 0.03257711683080023, 0.9121592712624064, 0.06515423366160046, 0.16928570463917558, 0.1805714182817873, 0.5078571139175267, 0.14671427735395218, 0.9639367408417048, 0.02157725591528274, 0.5394313978820685, 0.12586732617248264, 0.3128702107715997, 0.13648649151363343, 0.22987198570717207, 0.13648649151363343, 0.4956614691810898, 0.14176899129722564, 0.047256330432408546, 0.8506139477833539, 0.24799952854929572, 0.11573311332300468, 0.33066603806572764, 0.31413273616244125, 0.04032304851859171, 0.08064609703718342, 0.8871070674090177, 0.9607461664921081, 0.11427832573492466, 0.1333247133574121, 0.7428091172770104, 0.019046387622487445, 0.9117851285655855, 0.0651275091832561, 0.08464450777831396, 0.08464450777831396, 0.7900154059309302, 0.056429671852209304, 0.15450859896399566, 0.12875716580332972, 0.4721096079455423, 0.24034670949954878, 0.8936059307278792, 0.5911573733809998, 0.06269850929798483, 0.2507940371919393, 0.09852622889683331, 0.3758501267425779, 0.050113350232343715, 0.4071709706377927, 0.16913255703416005, 0.22246398649672666, 0.47394501471041767, 0.03868938895595246, 0.2708257226916672, 0.3506999153400155, 0.09564543145636786, 0.0717340735922759, 0.47822715728183934, 0.050140607003089886, 0.5515466770339887, 0.041783839169241575, 0.3509842490216292, 0.1066394252148465, 0.3199182756445395, 0.026659856303711624, 0.5420837448421364, 0.8355033219217343, 0.08237356695003013, 0.08237356695003013, 0.9288272912660359, 0.06480190404181646, 0.028251683247100336, 0.084755049741301, 0.7910471309188094, 0.11300673298840135, 0.835636406437923, 0.046424244802106836, 0.1114181875250564, 0.869377190557092, 0.981496488854647, 0.009669916146351203, 0.009669916146351203, 0.9690258042808803, 0.031258896912286456, 0.8361385708763186, 0.022149366115928968, 0.11628417210862708, 0.022149366115928968, 0.232361266120437, 0.28703450520759866, 0.06150739397305685, 0.41688344803960753, 0.012666476818465135, 0.2533295363693027, 0.06966562250155825, 0.658656794560187, 0.21560786089644338, 0.5066784731066419, 0.08624314435857734, 0.18326668176197686, 0.19976524912131918, 0.5235227218351813, 0.006888456866252386, 0.26864981778384306, 0.06485009859974755, 0.18158027607929314, 0.16861025635934362, 0.583650887397728, 0.956970826454719, 0.21544425169157208, 0.09792920531435095, 0.47985310604031967, 0.205651331160137, 0.13632238841323294, 0.5524644162009966, 0.0717486254806489, 0.2439453266342063, 0.8690829600609123, 0.05787733414747542, 0.8392213451383936, 0.08681600122121313, 0.030957114989685078, 0.13930701745358287, 0.6346208572885441, 0.18574268993811047, 0.9376702818953359, 0.054357697501178893, 0.013589424375294723, 0.0515849330917501, 0.8769438625597518, 0.0515849330917501, 0.19626373119176987, 0.17173076479279864, 0.12266483199485617, 0.5070146389120722, 0.884944659048806, 0.9010464077469251, 0.07508720064557708, 0.05737581084187844, 0.9180129734700551, 0.9341689626809205, 0.9213173559118876, 0.05419513858305221, 0.7953508399277871, 0.1813958055975655, 0.013953523507505037, 0.4980669879815497, 0.089206027698188, 0.1412428771887977, 0.2750519187360797, 0.35843607240179376, 0.1752354131742103, 0.08761770658710515, 0.37436656450854017, 0.5746139961785708, 0.09576899936309513, 0.31922999787698375, 0.03192199786504608, 0.7980499466261518, 0.15960998932523038, 0.003157969935194019, 0.994760529586116, 0.003157969935194019, 0.9709358697303544, 0.9798315841172852, 0.9840433986685524, 0.025451239831767607, 0.025451239831767607, 0.17815867882237327, 0.7635371949530283, 0.01195538906686513, 0.3227955048053585, 0.1554200578692467, 0.5140817298752006, 0.10005816028198365, 0.07004071219738855, 0.050029080140991826, 0.7804536501994725, 0.5179596913990264, 0.03171181784075672, 0.2378386338056754, 0.21141211893837814, 0.045333619317160324, 0.045333619317160324, 0.9066723863432066, 0.23466675303124007, 0.21120007772811605, 0.2933334412890501, 0.2581334283343641, 0.0888008644880551, 0.1776017289761102, 0.28416276636177634, 0.4440043224402755, 0.17763147741284352, 0.44407869353210877, 0.24741527211074632, 0.13322360805963263, 0.28391955446136047, 0.07886654290593346, 0.15773308581186693, 0.47319925743560076, 0.20838818284048843, 0.3241593955296487, 0.37046788060531277, 0.1003350509972722, 0.5349151793461053, 0.17679399995337378, 0.11332948714959858, 0.17679399995337378, 0.9346541453363058, 0.054979655608017985], \"Term\": [\"Ahab\", \"Arabian\", \"Arabian\", \"Arthur\", \"Arthur\", \"Arthur\", \"Bennet\", \"Bennet\", \"Bildad\", \"Bingley\", \"Bingley\", \"Bistritz\", \"Bourgh\", \"Cape\", \"Captain\", \"Captain\", \"Captain\", \"Captain_Ahab\", \"Captain_Peleg\", \"Catherine\", \"Charlotte\", \"Clerval\", \"Clerval\", \"Collins\", \"Collins\", \"Colonel\", \"Colonel_Fitzwilliam\", \"Count\", \"Count\", \"Darcy\", \"Darcy\", \"Diary\", \"Dracula\", \"Elizabeth\", \"Elizabeth\", \"Elizabeth\", \"Elizabeth\", \"Ernest\", \"Felix\", \"Felix\", \"Fitzwilliam\", \"Flask\", \"Frankenstein\", \"Frankenstein\", \"Geneva\", \"Geneva\", \"God\", \"God\", \"God\", \"God\", \"Greenland\", \"Harker\", \"Hawkins\", \"Hawkins\", \"Helsing\", \"Helsing\", \"Henry\", \"Henry\", \"Henry\", \"Hertfordshire\", \"Hurst\", \"Ingolstadt\", \"Jane\", \"Jane\", \"Jonah\", \"Jonah\", \"Jonathan\", \"Jonathan\", \"Justine\", \"Justine\", \"Lady\", \"Lady\", \"Lady Catherine\", \"Lady_Catherine\", \"Last night\", \"Lizzy\", \"Longbourn\", \"Lucas\", \"Lucy\", \"Lucy\", \"Lydia\", \"Meryton\", \"Mina\", \"Mina\", \"Mina\", \"Miss\", \"Miss\", \"Miss\", \"Miss\", \"Miss Bingley\", \"Miss_Bennet\", \"Miss_Bingley\", \"Miss_Lucas\", \"Mrs\", \"Mrs\", \"Mrs\", \"Mrs\", \"Mrs_Bennet\", \"Nantucket\", \"Netherfield\", \"Pass\", \"Peleg\", \"Pequod\", \"Queequeg\", \"Queequeg\", \"Renfield\", \"Rosings\", \"Safie\", \"Seward\", \"Seward\", \"Seward ' s\", \"Sir_William\", \"Sir_William\", \"Slovaks\", \"Starbuck\", \"Stubb\", \"Transylvania\", \"Van\", \"Van\", \"Van Helsing\", \"Van Helsing\", \"Van_Helsing\", \"Van_Helsing\", \"Victor\", \"Victor\", \"Westenra\", \"Westenra\", \"Whale\", \"Wickham\", \"abbey\", \"accent\", \"accent\", \"appear\", \"appear\", \"appear\", \"appear\", \"ardent\", \"ardently\", \"ardently\", \"ask\", \"ask\", \"ask\", \"ask\", \"asleep\", \"asleep\", \"attention\", \"attention\", \"attention\", \"attention\", \"awake\", \"awake\", \"awake\", \"awake\", \"bed\", \"bed\", \"bed\", \"bed\", \"believe\", \"believe\", \"believe\", \"believe\", \"boat\", \"boat\", \"boat\", \"cabin\", \"cabin\", \"captain\", \"captain\", \"captain\", \"castle\", \"castle\", \"castle\", \"celestial\", \"chapter\", \"chapter\", \"chapter\", \"chapter\", \"child\", \"child\", \"child\", \"child\", \"close\", \"close\", \"close\", \"close\", \"countenance\", \"countenance\", \"countenance\", \"countenance\", \"courtyard\", \"creator\", \"creator\", \"creature\", \"creature\", \"creature\", \"creature\", \"creep\", \"creep\", \"crew\", \"crew\", \"crime\", \"crime\", \"dance\", \"dance\", \"dance\", \"dance\", \"daughter\", \"daughter\", \"daughter\", \"daughter\", \"dear\", \"dear\", \"dear\", \"dear\", \"dearest\", \"death\", \"death\", \"death\", \"death\", \"deck\", \"deck\", \"desire\", \"desire\", \"desire\", \"desire\", \"despair\", \"despair\", \"despair\", \"despair\", \"diary\", \"disaster\", \"discover\", \"discover\", \"discover\", \"discover\", \"door\", \"door\", \"door\", \"door\", \"driver\", \"driver\", \"driver\", \"endeavour\", \"endeavour\", \"endeavour\", \"enter\", \"enter\", \"enter\", \"enter\", \"enterprise\", \"enthusiasm\", \"enthusiasm\", \"execute\", \"face\", \"face\", \"face\", \"face\", \"fall\", \"fall\", \"fall\", \"fall\", \"family\", \"family\", \"family\", \"family\", \"father\", \"father\", \"father\", \"father\", \"fear\", \"fear\", \"fear\", \"fear\", \"feeling\", \"feeling\", \"feeling\", \"feeling\", \"foot\", \"foot\", \"foot\", \"foot\", \"forever\", \"forever\", \"forever\", \"gentleman\", \"gentleman\", \"gentleman\", \"gentleman\", \"girl\", \"girl\", \"girl\", \"girl\", \"glacier\", \"government\", \"grief\", \"grief\", \"grief\", \"grief\", \"harbour\", \"harbour\", \"harpoon\", \"harpoon\", \"harpooneer\", \"harpooneer\", \"head\", \"head\", \"head\", \"head\", \"heart\", \"heart\", \"heart\", \"heart\", \"hope\", \"hope\", \"hope\", \"hope\", \"house\", \"house\", \"house\", \"house\", \"human\", \"human\", \"human\", \"human\", \"innocence\", \"innocence\", \"innocence\", \"key\", \"key\", \"key\", \"lady\", \"lady\", \"lady\", \"lady\", \"later\", \"later\", \"leg\", \"letter\", \"letter\", \"letter\", \"letter\", \"lie\", \"lie\", \"lie\", \"lie\", \"life\", \"life\", \"life\", \"life\", \"light\", \"light\", \"light\", \"light\", \"lock\", \"lock\", \"lock\", \"love\", \"love\", \"love\", \"love\", \"manner\", \"manner\", \"manner\", \"manner\", \"mast\", \"mast_head\", \"mate\", \"mate\", \"mate\", \"mean\", \"mean\", \"mean\", \"mean\", \"mind\", \"mind\", \"mind\", \"mind\", \"miserable\", \"miserable\", \"miserable\", \"miserable\", \"misery\", \"misery\", \"misery\", \"misery\", \"misfortune\", \"misfortune\", \"misfortune\", \"month\", \"month\", \"month\", \"month\", \"morning\", \"morning\", \"morning\", \"morning\", \"mountain\", \"mountain\", \"mountain\", \"mountain\", \"murder\", \"murder\", \"murder\", \"murderer\", \"murderer\", \"murderer\", \"nature\", \"nature\", \"nature\", \"nature\", \"oil\", \"old\", \"old\", \"old\", \"old\", \"open\", \"open\", \"open\", \"open\", \"outside\", \"outside\", \"outside\", \"pass\", \"pass\", \"pass\", \"pass\", \"patient\", \"patient\", \"patient\", \"pipe\", \"possess\", \"possess\", \"possess\", \"possess\", \"protector\", \"protector\", \"pursue\", \"pursue\", \"pursue\", \"pursue\", \"remain\", \"remain\", \"remain\", \"remain\", \"remorse\", \"reply\", \"reply\", \"reply\", \"reply\", \"return\", \"return\", \"return\", \"return\", \"right\", \"right\", \"right\", \"right\", \"room\", \"room\", \"room\", \"room\", \"round\", \"round\", \"round\", \"round\", \"run\", \"run\", \"run\", \"run\", \"sail\", \"sail\", \"sail\", \"sailor\", \"sailor\", \"science\", \"science\", \"science\", \"science\", \"sea\", \"sea\", \"sea\", \"shed\", \"ship\", \"ship\", \"ship\", \"shipmate\", \"shipmate\", \"sister\", \"sister\", \"sister\", \"sister\", \"sit\", \"sit\", \"sit\", \"sit\", \"sleep\", \"sleep\", \"sleep\", \"sleep\", \"small\", \"small\", \"small\", \"small\", \"sort\", \"sort\", \"sort\", \"sort\", \"sound\", \"sound\", \"sound\", \"sound\", \"sperm\", \"spirit\", \"spirit\", \"spirit\", \"spirit\", \"stand\", \"stand\", \"stand\", \"stand\", \"sympathize\", \"tale\", \"tale\", \"tale\", \"tear\", \"tear\", \"tear\", \"tear\", \"thou\", \"thou\", \"thou\", \"torture\", \"torture\", \"torture\", \"try\", \"try\", \"try\", \"try\", \"undertaking\", \"unfortunate\", \"unfortunate\", \"union\", \"union\", \"valley\", \"victim\", \"victim\", \"voyage\", \"voyage\", \"voyage\", \"walk\", \"walk\", \"walk\", \"walk\", \"want\", \"want\", \"want\", \"want\", \"water\", \"water\", \"water\", \"weep\", \"weep\", \"weep\", \"whale\", \"whale\", \"whale\", \"whale_ship\", \"whaleman\", \"whaling\", \"whilst\", \"whilst\", \"whilst\", \"whilst\", \"wind\", \"wind\", \"wind\", \"wind\", \"window\", \"window\", \"window\", \"window\", \"wish\", \"wish\", \"wish\", \"wish\", \"wolf\", \"wolf\", \"wolf\", \"word\", \"word\", \"word\", \"word\", \"work\", \"work\", \"work\", \"work\", \"world\", \"world\", \"world\", \"world\", \"write\", \"write\", \"write\", \"write\", \"year\", \"year\", \"year\", \"year\", \"young\", \"young\", \"young\", \"young\", \"young_lady\", \"young_lady\"]}, \"R\": 30, \"lambda.step\": 0.01, \"plot.opts\": {\"xlab\": \"PC1\", \"ylab\": \"PC2\"}, \"topic.order\": [4, 3, 1, 2]};\n",
       "\n",
       "function LDAvis_load_lib(url, callback){\n",
       "  var s = document.createElement('script');\n",
       "  s.src = url;\n",
       "  s.async = true;\n",
       "  s.onreadystatechange = s.onload = callback;\n",
       "  s.onerror = function(){console.warn(\"failed to load library \" + url);};\n",
       "  document.getElementsByTagName(\"head\")[0].appendChild(s);\n",
       "}\n",
       "\n",
       "if(typeof(LDAvis) !== \"undefined\"){\n",
       "   // already loaded: just create the visualization\n",
       "   !function(LDAvis){\n",
       "       new LDAvis(\"#\" + \"ldavis_el92596110798249126394267984\", ldavis_el92596110798249126394267984_data);\n",
       "   }(LDAvis);\n",
       "}else if(typeof define === \"function\" && define.amd){\n",
       "   // require.js is available: use it to load d3/LDAvis\n",
       "   require.config({paths: {d3: \"https://d3js.org/d3.v5\"}});\n",
       "   require([\"d3\"], function(d3){\n",
       "      window.d3 = d3;\n",
       "      LDAvis_load_lib(\"https://cdn.jsdelivr.net/gh/bmabey/pyLDAvis@3.4.0/pyLDAvis/js/ldavis.v3.0.0.js\", function(){\n",
       "        new LDAvis(\"#\" + \"ldavis_el92596110798249126394267984\", ldavis_el92596110798249126394267984_data);\n",
       "      });\n",
       "    });\n",
       "}else{\n",
       "    // require.js not available: dynamically load d3 & LDAvis\n",
       "    LDAvis_load_lib(\"https://d3js.org/d3.v5.js\", function(){\n",
       "         LDAvis_load_lib(\"https://cdn.jsdelivr.net/gh/bmabey/pyLDAvis@3.4.0/pyLDAvis/js/ldavis.v3.0.0.js\", function(){\n",
       "                 new LDAvis(\"#\" + \"ldavis_el92596110798249126394267984\", ldavis_el92596110798249126394267984_data);\n",
       "            })\n",
       "         });\n",
       "}\n",
       "</script>"
      ],
      "text/plain": [
       "<IPython.core.display.HTML object>"
      ]
     },
     "execution_count": 67,
     "metadata": {},
     "output_type": "execute_result"
    }
   ],
   "source": [
    "# plot topics\n",
    "data =  pyLDAvis.gensim_models.prepare(model, corpus, dictionary)\n",
    "pyLDAvis.display(data)"
   ]
  },
  {
   "cell_type": "code",
   "execution_count": 68,
   "metadata": {},
   "outputs": [],
   "source": [
    "# assignment\n",
    "sent_to_cluster = list()\n",
    "for n,doc in enumerate(corpus):\n",
    "    if doc:\n",
    "        cluster = max(model[doc],key=lambda x:x[1])\n",
    "        sent_to_cluster.append(cluster[0])"
   ]
  },
  {
   "cell_type": "code",
   "execution_count": 69,
   "metadata": {},
   "outputs": [
    {
     "name": "stdout",
     "output_type": "stream",
     "text": [
      "DRACULA.txt : 1 - 60\n",
      "Accuracy: 1.0\n",
      "------\n",
      "Frankenstein.txt : 0 - 54\n",
      "Accuracy: 0.9\n",
      "------\n",
      "Moby_Dick.txt : 2 - 58\n",
      "Accuracy: 0.9666666666666667\n",
      "------\n",
      "PRIDE_AND_PREJUDICE.txt : 3 - 60\n",
      "Accuracy: 1.0\n",
      "------\n"
     ]
    }
   ],
   "source": [
    "# accuracy\n",
    "from collections import Counter\n",
    "for book, cluster in book_id.items():\n",
    "    assignments = list()\n",
    "    for real,given in zip(chunk_class,sent_to_cluster):\n",
    "        if real == cluster:\n",
    "            assignments.append(given)\n",
    "    most_common,num_most_common = Counter(assignments).most_common(1)[0] # 4, 6 times\n",
    "    print(book,\":\",most_common,\"-\",num_most_common)\n",
    "    print(\"Accuracy:\",num_most_common/limit)\n",
    "    print(\"------\")"
   ]
  },
  {
   "cell_type": "markdown",
   "metadata": {},
   "source": [
    "# Task 4: Semantic analysis based on lexical categories"
   ]
  },
  {
   "cell_type": "code",
   "execution_count": 70,
   "metadata": {},
   "outputs": [],
   "source": [
    "from empath import Empath\n",
    "lexicon = Empath()"
   ]
  },
  {
   "cell_type": "markdown",
   "metadata": {},
   "source": [
    "### Let's see what pre-build categories we can study! More information: https://hci.stanford.edu/publications/2016/ethan/empath-chi-2016.pdf"
   ]
  },
  {
   "cell_type": "code",
   "execution_count": 71,
   "metadata": {},
   "outputs": [
    {
     "name": "stdout",
     "output_type": "stream",
     "text": [
      "help\n",
      "office\n",
      "dance\n",
      "money\n",
      "wedding\n",
      "domestic_work\n",
      "sleep\n",
      "medical_emergency\n",
      "cold\n",
      "hate\n",
      "cheerfulness\n",
      "aggression\n",
      "occupation\n",
      "envy\n",
      "anticipation\n"
     ]
    }
   ],
   "source": [
    "for cat in list(lexicon.cats.keys())[:15]:\n",
    "    print(cat)"
   ]
  },
  {
   "cell_type": "markdown",
   "metadata": {},
   "source": [
    "### For each category, we can examine representative terms"
   ]
  },
  {
   "cell_type": "code",
   "execution_count": 72,
   "metadata": {},
   "outputs": [
    {
     "data": {
      "text/plain": [
       "['diabetic',\n",
       " 'vomiting',\n",
       " 'depressant',\n",
       " 'psychosis',\n",
       " 'psychiatrist',\n",
       " 'disability',\n",
       " 'biopsy',\n",
       " 'hospital',\n",
       " 'schizophrenia',\n",
       " 'sufferer',\n",
       " 'therapist',\n",
       " 'patient',\n",
       " 'heartburn',\n",
       " 'bedridden',\n",
       " 'syndrome']"
      ]
     },
     "execution_count": 72,
     "metadata": {},
     "output_type": "execute_result"
    }
   ],
   "source": [
    "lexicon.cats[\"health\"][:15]"
   ]
  },
  {
   "cell_type": "markdown",
   "metadata": {},
   "source": [
    "### Studying Pride and Prejudice"
   ]
  },
  {
   "cell_type": "code",
   "execution_count": 73,
   "metadata": {},
   "outputs": [],
   "source": [
    "nlp = spacy.load('en_core_web_sm')\n",
    "doc = nlp(books[3])"
   ]
  },
  {
   "cell_type": "code",
   "execution_count": 74,
   "metadata": {},
   "outputs": [],
   "source": [
    "empath_features = lexicon.analyze(doc.text,categories = [\"disappointment\", \"pain\", \"joy\", \"beauty\", \"affection\"])"
   ]
  },
  {
   "cell_type": "code",
   "execution_count": 76,
   "metadata": {},
   "outputs": [
    {
     "data": {
      "text/plain": [
       "{'disappointment': 149.0,\n",
       " 'pain': 228.0,\n",
       " 'joy': 278.0,\n",
       " 'beauty': 136.0,\n",
       " 'affection': 439.0}"
      ]
     },
     "execution_count": 76,
     "metadata": {},
     "output_type": "execute_result"
    }
   ],
   "source": [
    "empath_features"
   ]
  },
  {
   "cell_type": "code",
   "execution_count": 77,
   "metadata": {},
   "outputs": [],
   "source": [
    "empath_features = lexicon.analyze(doc.text,categories = [\"disappointment\", \"pain\", \"joy\", \"beauty\", \"affection\"], normalize = True)"
   ]
  },
  {
   "cell_type": "code",
   "execution_count": 78,
   "metadata": {},
   "outputs": [
    {
     "data": {
      "text/plain": [
       "{'disappointment': 0.0012256615693403638,\n",
       " 'pain': 0.001875508978587939,\n",
       " 'joy': 0.002286804807225645,\n",
       " 'beauty': 0.0011187246538945602,\n",
       " 'affection': 0.0036111773754390585}"
      ]
     },
     "execution_count": 78,
     "metadata": {},
     "output_type": "execute_result"
    }
   ],
   "source": [
    "empath_features"
   ]
  },
  {
   "cell_type": "markdown",
   "metadata": {},
   "source": [
    "### Usecase: the evolution of topics"
   ]
  },
  {
   "cell_type": "code",
   "execution_count": 79,
   "metadata": {},
   "outputs": [],
   "source": [
    "bins = range(0,len(doc.text),150000)\n"
   ]
  },
  {
   "cell_type": "code",
   "execution_count": 80,
   "metadata": {},
   "outputs": [],
   "source": [
    "love = []\n",
    "pain = []\n",
    "beauty = []\n",
    "affection = []\n",
    "\n",
    "\n",
    "for cnt,i in enumerate(bins[:-1]):\n",
    "    empath_features = lexicon.analyze(doc.text[bins[cnt]:bins[cnt+1]],\n",
    "                                      categories = [\"love\", \"pain\", \"joy\", \"beauty\", \"affection\"], normalize = True)\n",
    "    love.append(empath_features[\"love\"])\n",
    "    pain.append(empath_features[\"pain\"])\n",
    "    beauty.append(empath_features[\"beauty\"])\n",
    "    affection.append(empath_features[\"affection\"])"
   ]
  },
  {
   "cell_type": "code",
   "execution_count": 81,
   "metadata": {},
   "outputs": [
    {
     "data": {
      "image/png": "[encoded data removed]",
      "text/plain": [
       "<Figure size 640x480 with 1 Axes>"
      ]
     },
     "metadata": {},
     "output_type": "display_data"
    }
   ],
   "source": [
    "plt.plot(love,label = \"love\")\n",
    "plt.plot(beauty, label = \"beauty\")\n",
    "plt.plot(affection, label = \"affection\")\n",
    "plt.plot(pain,label = \"pain\")\n",
    "\n",
    "plt.xlabel(\"progression in the book\")\n",
    "plt.ylabel(\"frequency of a category\")\n",
    "plt.legend()\n",
    "plt.show()"
   ]
  },
  {
   "cell_type": "code",
   "execution_count": 82,
   "metadata": {},
   "outputs": [],
   "source": [
    "# We can observe how as the story progresses, beauty and affection categories decrease, while love and pain intensify!"
   ]
  },
  {
   "cell_type": "markdown",
   "metadata": {},
   "source": [
    "### We can create custom categories based on seed terms!\n",
    "### Models trained on: fiction, nytimes or reddit"
   ]
  },
  {
   "cell_type": "code",
   "execution_count": 83,
   "metadata": {},
   "outputs": [
    {
     "name": "stdout",
     "output_type": "stream",
     "text": [
      "[\"avocado\", \"kale\", \"Swiss_chard\", \"escarole\", \"black_beans\", \"cucumber\", \"dill\", \"leek\", \"mango\", \"red_peppers\", \"chicory\", \"chanterelles\", \"chutney\", \"tamarind\", \"papaya\", \"black_olives\", \"endive\", \"pesto\", \"walnuts\", \"green_beans\", \"bok_choy\", \"portobello_mushrooms\", \"lemon_grass\", \"radicchio\", \"ricotta\", \"chicken_breast\", \"porcini\", \"blue_cheese\", \"snow_peas\", \"pickled\", \"Gorgonzola\", \"chorizo\", \"yams\", \"hazelnuts\", \"fresh_tomatoes\", \"shiitake_mushrooms\", \"anchovies\", \"wild_rice\", \"scallion\", \"red_onions\", \"broccoli_rape\", \"red_cabbage\", \"wasabi\", \"sweet_potato\", \"feta\", \"roasted_garlic\", \"compote\", \"napoleon\", \"aioli\", \"crab_meat\", \"cauliflower\", \"jicama\", \"parsnips\", \"apricots\", \"new_potatoes\", \"truffle_oil\", \"lemongrass\", \"pistachios\", \"saut\\u00e9ed\", \"gnocchi\", \"duck_confit\", \"fresh_herbs\", \"ratatouille\", \"white_beans\", \"croutons\", \"fresh_mozzarella\", \"squab\", \"watercress\", \"roasted_red_peppers\", \"pine_nuts\", \"fritters\", \"butternut_squash\", \"fava_beans\", \"drizzled\", \"red_onion\", \"pea_shoots\", \"rosemary\", \"romaine\", \"mustard_greens\", \"horseradish\", \"caramelized_onions\", \"artichoke_hearts\", \"fettuccine\", \"grilled_eggplant\", \"julienne\", \"plum_tomatoes\", \"grilled_chicken\", \"pineapple\", \"candied\", \"pancetta\", \"celery_root\", \"sea_scallops\", \"shiitake\", \"porcini_mushrooms\", \"sour_cream\", \"bean_sprouts\", \"oyster_mushrooms\", \"monkfish\", \"chickpeas\", \"coconut_milk\"]\n"
     ]
    }
   ],
   "source": [
    "lexicon.create_category(\"healthy_food\", [\"healthy_food\",\"low_carb\",\"kale\",\"avocado\"], model=\"nytimes\")"
   ]
  },
  {
   "cell_type": "code",
   "execution_count": 84,
   "metadata": {},
   "outputs": [
    {
     "name": "stdout",
     "output_type": "stream",
     "text": [
      "[\"green_vegetables\", \"leafy_greens\", \"whole_grain_bread\", \"brown_rice\", \"white_rice\", \"green_veggies\", \"veggies\", \"whole_wheat_bread\", \"sweet_potatoes\", \"raw_veggies\", \"lean_meat\", \"spinach\", \"fatty_meat\", \"kale\", \"sweet_potato\", \"avocado\", \"hummus\", \"chicken_breast\", \"veggie\", \"whole_grain\", \"vegetables\", \"whole_wheat_pasta\", \"salads\", \"broccoli\", \"greek_yogurt\", \"Greek_yogurt\", \"yogurt\", \"avocados\", \"rice_cakes\", \"raw_vegetables\", \"almonds\", \"lean_protein\", \"grilled_chicken\", \"quinoa\", \"steamed_broccoli\", \"whole_grain_pasta\", \"brocolli\", \"kale\", \"avocado\", \"tofu\", \"Veggies\", \"edamame\", \"more_veggies\", \"lean_meats\", \"quinoa\", \"salad\", \"cottage_cheese\", \"whole_wheat\", \"wheat_bread\", \"romaine_lettuce\", \"white_bread\", \"raw_spinach\", \"oatmeal\", \"white_potatoes\", \"almond_butter\", \"pork_rinds\", \"veg\", \"cashews\", \"greek_yoghurt\", \"baby_carrots\", \"fresh_veggies\", \"fatty_meats\", \"more_vegetables\", \"avacado\", \"veges\", \"nut_butter\", \"hard_boiled_eggs\", \"carrot_sticks\", \"whole_grains\", \"grilled_chicken_breast\", \"steamed_vegetables\", \"meats\", \"lentils\", \"green_beans\", \"low_cal\", \"nuts/seeds\", \"iceberg_lettuce\", \"carrots\", \"red_meat\", \"other_foods\", \"fried_foods\", \"smoothies\", \"healthy_fats\", \"vegies\", \"avacados\", \"other_vegetables\", \"fresh_fruit\", \"spinach_salad\", \"egg_whites\", \"steamed_veggies\", \"nut_butters\", \"ground_turkey\", \"baked_chicken\"]\n"
     ]
    }
   ],
   "source": [
    "lexicon.create_category(\"healthy_food\", [\"healthy_food\",\"low_carb\",\"kale\",\"avocado\"], model=\"reddit\")"
   ]
  },
  {
   "cell_type": "code",
   "execution_count": 85,
   "metadata": {},
   "outputs": [
    {
     "name": "stdout",
     "output_type": "stream",
     "text": [
      "[\"turkey\", \"roast_beef\", \"white_bread\", \"fried_chicken\", \"pancakes\", \"peanut_butter\", \"gefilte_fish\", \"stuffing\", \"French_fries\", \"meatloaf\", \"brisket\", \"potato_salad\", \"pumpkin_pie\", \"scrambled_eggs\", \"french_fries\", \"spaghetti\", \"gravy\", \"tamales\", \"pot_roast\", \"oatmeal\", \"lasagna\", \"corned_beef\", \"latkes\", \"pickles\", \"sauerkraut\", \"burger\", \"grits\", \"biscuits\", \"hamburger\", \"salad_bar\", \"corn_bread\", \"chicken_soup\", \"bacon\", \"cream_cheese\", \"brownies\", \"tofu\", \"pastrami\", \"pork_chops\", \"salami\", \"marshmallows\", \"collard_greens\", \"macaroni\", \"pies\", \"raw_fish\", \"eggnog\", \"cheeseburgers\", \"truffles\", \"chocolate_cake\", \"hard-boiled_eggs\", \"baked_potatoes\", \"venison\", \"cottage_cheese\", \"pheasant\", \"applesauce\", \"quail\", \"fruit_salad\", \"meatballs\", \"chocolate_chip_cookies\", \"tacos\", \"roast\", \"jelly\", \"chicken_salad\", \"omelet\", \"gumbo\", \"steaks\", \"soup\", \"lox\", \"sausage\", \"roast_chicken\", \"rye\", \"bagel\", \"fruitcake\", \"fries\", \"fried_eggs\", \"ketchup\", \"chicken_wings\", \"barbecue_sauce\", \"sweet_potatoes\", \"pasta\", \"sausages\", \"crackers\", \"omelets\", \"roasting\", \"French_toast\", \"muffins\", \"mashed_potatoes\", \"fresh_fruit\", \"baked_potato\", \"waffles\", \"cranberry_sauce\", \"baked_beans\", \"cheese\", \"tripe\", \"noodles\", \"maple_syrup\", \"quiche\", \"buns\", \"baklava\", \"stews\"]\n"
     ]
    }
   ],
   "source": [
    "lexicon.create_category(\"festive_food\", [\"festive_food\",\"turkey\",\"eggnog\"], model=\"nytimes\")"
   ]
  },
  {
   "cell_type": "markdown",
   "metadata": {},
   "source": [
    "### List of further resources\n",
    "    * NLTK\n",
    "    * Jellyfish: string similarity library\n",
    "    * TextBlob: simplified text processing\n",
    "    * PyEnchant: language detection\n",
    "    * WordNet: ontology of concepts (inc. in NLTK)\n",
    "    * Stanford NLP (Java)\n",
    "    * Tweet NLP: https://www.cs.cmu.edu/~ark/TweetNLP/"
   ]
  },
  {
   "cell_type": "markdown",
   "metadata": {},
   "source": [
    "## Part 2"
   ]
  },
  {
   "cell_type": "markdown",
   "metadata": {},
   "source": [
    "### Question 1:\n",
    "An NLP preprocessing model, using the list of stopwords ['a', 'the', 'is', 'you', 'I','my','with','was'] for the input sentence\n",
    "“I was driving down the street with my CAR! :)” <br>\n",
    "gives the following output: {driving, down, street, car, :)}.\n",
    "The model consists of: <br>\n",
    "\n",
    "a) Stopword Removal, Casefolding and Stemming <br>\n",
    "b) Stopword Removal and Casefolding <br>\n",
    "c) Stopword Removal and Stemming <br>\n",
    "d) Casefolding and Stemming <br>"
   ]
  },
  {
   "cell_type": "code",
   "execution_count": 137,
   "metadata": {},
   "outputs": [],
   "source": [
    "# write your code and/or answer here\n",
    "# b"
   ]
  },
  {
   "cell_type": "markdown",
   "metadata": {},
   "source": [
    "### Question 2:\n",
    "What statement is false about topic detection using LSA: <br>\n",
    "\n",
    "a) It finds the representation of documents and words in the latent \"topic space\" <br>\n",
    "b) It produces topics interpretable in “word space” <br>\n",
    "c) A document's topic representation is a probability distribution over topics <br>\n",
    "d) The vectors representing topics in “word space” are linearly independent <br>"
   ]
  },
  {
   "cell_type": "code",
   "execution_count": 87,
   "metadata": {},
   "outputs": [],
   "source": [
    "# write your code and/or answer here\n",
    "# c"
   ]
  },
  {
   "cell_type": "markdown",
   "metadata": {},
   "source": [
    "### Question 3:\n",
    "The problem of having more features than documents when using a TF-IDF matrix for document classification cannot be addressed by: <br>\n",
    "\n",
    "a) Using SVD for dimensionality reduction <br>\n",
    "b) Using min-max scaling of features <br>\n",
    "c) Penalizing very large positive and very large negative weights (a.k.a. regularization) <br>\n",
    "d) Using online feature selection <br>"
   ]
  },
  {
   "cell_type": "code",
   "execution_count": 139,
   "metadata": {},
   "outputs": [],
   "source": [
    "# write your code and/or answer here\n",
    "# b"
   ]
  },
  {
   "cell_type": "markdown",
   "metadata": {},
   "source": [
    "### Question 4:\n",
    "Which of the following is false about word vectors: <br>\n",
    "\n",
    "a) Word2vec is used to achieve a lower dimensional representation than bag of words <br>\n",
    "b) Semantically similar words typically have similar word2vec vectors <br>\n",
    "c) Each dimension in the word2vec embedding has a clear interpretation <br>\n",
    "d) Word2Vec can be used for the computation of sentence vectors <br>"
   ]
  },
  {
   "cell_type": "code",
   "execution_count": 88,
   "metadata": {},
   "outputs": [],
   "source": [
    "# write your code and/or answer here\n",
    "# c"
   ]
  },
  {
   "cell_type": "markdown",
   "metadata": {},
   "source": [
    "### Question 5:\n",
    "Given the following word (W) / context (C) co-occurrence frequencies, which statement is true regarding the pointwise mutual information (PMI)?\n",
    "\n",
    "|  |W1|W2|W3|\n",
    "|--|--|--|--|\n",
    "|C1| 2| 0| 3|\n",
    "|C2| 6| 4| 0|\n",
    "|C3| 1| 1| 3|\n",
    "\n",
    "a) PMI(w=W1, c=C2) > PMI(w=W2, c=C2) > PMI(w=W3, c=C3) <br>\n",
    "b) PMI(w=W2, c=C2) > PMI(w=W1, c=C2) >  PMI(w=W3, c=C3) <br>\n",
    "c) PMI(w=W3, c=C3) > PMI(w=W1, c=C2) > PMI(w=W2, c=C2) <br>\n",
    "d) PMI(w=W3, c=C3) > PMI(w=W2, c=C2) > PMI(w=W1, c=C2) <br>"
   ]
  },
  {
   "cell_type": "code",
   "execution_count": 89,
   "metadata": {},
   "outputs": [],
   "source": [
    "# write your code and/or answer here\n",
    "#d"
   ]
  }
 ],
 "metadata": {
  "kernelspec": {
   "display_name": "Python 3 (ipykernel)",
   "language": "python",
   "name": "python3"
  },
  "language_info": {
   "codemirror_mode": {
    "name": "ipython",
    "version": 3
   },
   "file_extension": ".py",
   "mimetype": "text/x-python",
   "name": "python",
   "nbconvert_exporter": "python",
   "pygments_lexer": "ipython3",
   "version": "3.11.9"
  },
  "toc": {
   "colors": {
    "hover_highlight": "#DAA520",
    "navigate_num": "#000000",
    "navigate_text": "#333333",
    "running_highlight": "#FF0000",
    "selected_highlight": "#FFD700",
    "sidebar_border": "#EEEEEE",
    "wrapper_background": "#FFFFFF"
   },
   "moveMenuLeft": true,
   "nav_menu": {
    "height": "228px",
    "width": "252px"
   },
   "navigate_menu": true,
   "number_sections": true,
   "sideBar": true,
   "threshold": 4,
   "toc_cell": false,
   "toc_section_display": "block",
   "toc_window_display": false,
   "widenNotebook": false
  },
  "varInspector": {
   "cols": {
    "lenName": 16,
    "lenType": 16,
    "lenVar": 40
   },
   "kernels_config": {
    "python": {
     "delete_cmd_postfix": "",
     "delete_cmd_prefix": "del ",
     "library": "var_list.py",
     "varRefreshCmd": "print(var_dic_list())"
    },
    "r": {
     "delete_cmd_postfix": ") ",
     "delete_cmd_prefix": "rm(",
     "library": "var_list.r",
     "varRefreshCmd": "cat(var_dic_list()) "
    }
   },
   "types_to_exclude": [
    "module",
    "function",
    "builtin_function_or_method",
    "instance",
    "_Feature"
   ],
   "window_display": false
  }
 },
 "nbformat": 4,
 "nbformat_minor": 4
}
